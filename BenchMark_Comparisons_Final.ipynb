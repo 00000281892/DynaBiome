{
  "nbformat": 4,
  "nbformat_minor": 0,
  "metadata": {
    "colab": {
      "provenance": [],
      "machine_shape": "hm",
      "gpuType": "V28",
      "include_colab_link": true
    },
    "kernelspec": {
      "name": "python3",
      "display_name": "Python 3"
    },
    "language_info": {
      "name": "python"
    },
    "accelerator": "TPU"
  },
  "cells": [
    {
      "cell_type": "markdown",
      "metadata": {
        "id": "view-in-github",
        "colab_type": "text"
      },
      "source": [
        "<a href=\"https://colab.research.google.com/github/00000281892/DynaBiome/blob/main/BenchMark_Comparisons_Final.ipynb\" target=\"_parent\"><img src=\"https://colab.research.google.com/assets/colab-badge.svg\" alt=\"Open In Colab\"/></a>"
      ]
    },
    {
      "cell_type": "code",
      "source": [
        "!pip install tensorflow\n",
        "import numpy as np\n",
        "import tensorflow as tf\n",
        "from tensorflow.keras.layers import Input, Dense\n",
        "from tensorflow.keras.models import Model\n",
        "!pip install scikit-learn\n",
        "from sklearn.preprocessing import MinMaxScaler"
      ],
      "metadata": {
        "id": "mHqxDVFd8ff6"
      },
      "execution_count": null,
      "outputs": []
    },
    {
      "cell_type": "markdown",
      "source": [
        "# Dataset loading"
      ],
      "metadata": {
        "id": "SH4hTAftFXoD"
      }
    },
    {
      "cell_type": "code",
      "source": [
        "# prompt: Load csv file with pandas\n",
        "import pandas as pd\n",
        "df_benchmark = pd.read_csv('/content/asv_interpretability_dataset_modified.csv', dtype={'PatientID': str})"
      ],
      "metadata": {
        "id": "yudUEUvGU_cy"
      },
      "execution_count": null,
      "outputs": []
    },
    {
      "cell_type": "code",
      "source": [
        "# --- Handle NeutrophilCount with '<0.1' values ---\n",
        "def parse_neutrophil(value):\n",
        "    try:\n",
        "        return float(value)\n",
        "    except:\n",
        "        if isinstance(value, str) and \"<\" in value:\n",
        "            threshold = float(value.replace(\"<\", \"\").strip())\n",
        "            return threshold / 2  # or use threshold itself\n",
        "        return np.nan\n",
        "\n",
        "df_benchmark['NeutrophilCount'] = df_benchmark['NeutrophilCount'].apply(parse_neutrophil)"
      ],
      "metadata": {
        "id": "Guh792HEVF6v"
      },
      "execution_count": null,
      "outputs": []
    },
    {
      "cell_type": "code",
      "source": [
        "# One-hot encode stool consistency\n",
        "df_benchmark = pd.get_dummies(df_benchmark, columns=['Consistency'])"
      ],
      "metadata": {
        "id": "2uUNPbutVK-C"
      },
      "execution_count": null,
      "outputs": []
    },
    {
      "cell_type": "code",
      "source": [
        "# Log transform Genus-relative abundances\n",
        "df_benchmark['RelativeAbundance'] = df_benchmark['RelativeAbundance'].astype(float)\n",
        "df_benchmark['RelativeAbundance'] = np.log1p(df_benchmark['RelativeAbundance'])"
      ],
      "metadata": {
        "id": "rtrOQcE1VOsW"
      },
      "execution_count": null,
      "outputs": []
    },
    {
      "cell_type": "code",
      "source": [
        "def label_dysbiosis(row):\n",
        "    is_temp_abnormal = row['MaxTemperature'] > 38.0\n",
        "    is_neutro_low = row['NeutrophilCount'] < 500\n",
        "    is_consistency_liquid = row.get('Consistency_liquid', 0) == 1\n",
        "    return int(is_temp_abnormal and is_neutro_low and is_consistency_liquid)"
      ],
      "metadata": {
        "id": "MvDX1Ur3Vbz_"
      },
      "execution_count": null,
      "outputs": []
    },
    {
      "cell_type": "code",
      "source": [
        "df_benchmark['DysbiosisLabel'] = df_benchmark.apply(label_dysbiosis, axis=1)"
      ],
      "metadata": {
        "id": "h6cn3s74Vkop"
      },
      "execution_count": null,
      "outputs": []
    },
    {
      "cell_type": "code",
      "source": [
        "# Keep metadata along with abundances\n",
        "metadata_cols = ['PatientID', 'SampleID', 'DayRelativeToNearestHCT',\n",
        "                 'MaxTemperature', 'NeutrophilCount'] + \\\n",
        "                [col for col in df_benchmark.columns if col.startswith('Consistency_')] + \\\n",
        "                ['DysbiosisLabel']"
      ],
      "metadata": {
        "id": "cjZ4MbvYVpJy"
      },
      "execution_count": null,
      "outputs": []
    },
    {
      "cell_type": "code",
      "source": [
        "genus_pivot = df_benchmark.pivot_table(\n",
        "    index=['PatientID', 'SampleID', 'DayRelativeToNearestHCT'],\n",
        "    columns='Genus',\n",
        "    values='RelativeAbundance',\n",
        "    fill_value=0\n",
        ").reset_index()"
      ],
      "metadata": {
        "id": "B04TluzLVzoP"
      },
      "execution_count": null,
      "outputs": []
    },
    {
      "cell_type": "code",
      "source": [
        "# Merge with metadata\n",
        "metadata = df_benchmark[metadata_cols].drop_duplicates(subset=['PatientID', 'SampleID', 'DayRelativeToNearestHCT'])\n",
        "merged_df_benchmark = pd.merge(genus_pivot, metadata, on=['PatientID', 'SampleID', 'DayRelativeToNearestHCT'], how='left')"
      ],
      "metadata": {
        "id": "A81j9mbqV8oj"
      },
      "execution_count": null,
      "outputs": []
    },
    {
      "cell_type": "code",
      "source": [
        "# Drop genus columns with zero variance\n",
        "genus_cols = df_benchmark['Genus'].unique().tolist()\n",
        "variances = merged_df_benchmark[genus_cols].var()\n",
        "non_zero_var_cols = variances[variances > 1e-6].index.tolist()"
      ],
      "metadata": {
        "id": "jCm90fgEWHqm"
      },
      "execution_count": null,
      "outputs": []
    },
    {
      "cell_type": "code",
      "source": [
        "# Final feature set\n",
        "feature_cols = non_zero_var_cols + ['MaxTemperature', 'NeutrophilCount'] + \\\n",
        "               [col for col in merged_df_benchmark.columns if 'Consistency' in col]"
      ],
      "metadata": {
        "id": "9uXBo5FNWQm-"
      },
      "execution_count": null,
      "outputs": []
    },
    {
      "cell_type": "code",
      "source": [
        "# ==================== STEP 2: Scaling ====================\n",
        "scaler = MinMaxScaler()\n",
        "merged_df_benchmark[feature_cols] = scaler.fit_transform(merged_df_benchmark[feature_cols])"
      ],
      "metadata": {
        "id": "NRe8nqJXb_VE"
      },
      "execution_count": null,
      "outputs": []
    },
    {
      "cell_type": "code",
      "source": [
        "# ==================== STEP 3: Prepare Time Series ====================\n",
        "# Sort & reshape by patient and day\n",
        "merged_df_benchmark = merged_df_benchmark.sort_values(['PatientID', 'DayRelativeToNearestHCT'])"
      ],
      "metadata": {
        "id": "Lc9LrLURcBPD"
      },
      "execution_count": null,
      "outputs": []
    },
    {
      "cell_type": "code",
      "source": [
        "# --- [1] Build sequences with labels ---\n",
        "def build_sequences_with_labels(df, feature_cols, label_col='DysbiosisLabel', seq_len=14):\n",
        "    X_sequences = []\n",
        "    y_labels = []\n",
        "    time_indices = []\n",
        "\n",
        "    for pid, group in df.groupby('PatientID'):\n",
        "        group = group.sort_values('DayRelativeToNearestHCT')\n",
        "        values = group[feature_cols].values\n",
        "        labels = group[label_col].values\n",
        "        days = group['DayRelativeToNearestHCT'].values\n",
        "\n",
        "        for i in range(len(values) - seq_len + 1):\n",
        "            seq = values[i:i+seq_len]\n",
        "            label_window = labels[i:i+seq_len]\n",
        "            label = int(label_window.max())  # 1 if any point in window is dysbiotic\n",
        "            time = days[i+seq_len-1]  # assign the last day of the window\n",
        "            X_sequences.append(seq)\n",
        "            y_labels.append(label)\n",
        "            time_indices.append((pid, time))\n",
        "\n",
        "    return np.array(X_sequences), np.array(y_labels), time_indices"
      ],
      "metadata": {
        "id": "_GHtt6uWxHnh"
      },
      "execution_count": null,
      "outputs": []
    },
    {
      "cell_type": "code",
      "source": [
        "# --- [2] Define features ---\n",
        "seq_len = 14\n",
        "feature_cols = [col for col in merged_df_benchmark.columns\n",
        "                if col not in ['PatientID', 'SampleID', 'DayRelativeToNearestHCT',\n",
        "                               'DysbiosisLabel', 'MaxTemperature', 'NeutrophilCount']\n",
        "                and not col.startswith('Consistency_')]\n",
        "\n",
        "# --- [3] Build sequences ---\n",
        "X_seq, y_seq, time_idx = build_sequences_with_labels(merged_df_benchmark, feature_cols, seq_len=seq_len)"
      ],
      "metadata": {
        "id": "SGoEErkwxXDW"
      },
      "execution_count": null,
      "outputs": []
    },
    {
      "cell_type": "markdown",
      "source": [
        "# Time based Splitting"
      ],
      "metadata": {
        "id": "bkFHDWToFeCJ"
      }
    },
    {
      "cell_type": "code",
      "source": [
        "# --- [4] Create DataFrame for temporal splitting ---\n",
        "split_df = pd.DataFrame(time_idx, columns=['PatientID', 'DayRelativeToNearestHCT'])\n",
        "split_df['y'] = y_seq\n",
        "split_df['X_idx'] = range(len(X_seq))"
      ],
      "metadata": {
        "id": "XV9_HioUxZUq"
      },
      "execution_count": null,
      "outputs": []
    },
    {
      "cell_type": "code",
      "source": [
        "# --- [5] Sort by patient and time ---\n",
        "split_df = split_df.sort_values(['PatientID', 'DayRelativeToNearestHCT'])"
      ],
      "metadata": {
        "id": "9qgXMJ7sxdkI"
      },
      "execution_count": null,
      "outputs": []
    },
    {
      "cell_type": "code",
      "source": [
        "# --- [6] Determine split indices (70/15/15 by number of sequences) ---\n",
        "n_total = len(split_df)\n",
        "n_train = int(0.7 * n_total)\n",
        "n_val = int(0.15 * n_total)"
      ],
      "metadata": {
        "id": "CgRRzugrx3QE"
      },
      "execution_count": null,
      "outputs": []
    },
    {
      "cell_type": "code",
      "source": [
        "train_idx = split_df.iloc[:n_train]['X_idx'].values\n",
        "val_idx = split_df.iloc[n_train:n_train+n_val]['X_idx'].values\n",
        "test_idx = split_df.iloc[n_train+n_val:]['X_idx'].values"
      ],
      "metadata": {
        "id": "7nYm4AJmx6ac"
      },
      "execution_count": null,
      "outputs": []
    },
    {
      "cell_type": "code",
      "source": [
        "# --- [7] Final splits ---\n",
        "X_train, y_train = X_seq[train_idx], y_seq[train_idx]\n",
        "X_val, y_val = X_seq[val_idx], y_seq[val_idx]\n",
        "X_test, y_test = X_seq[test_idx], y_seq[test_idx]"
      ],
      "metadata": {
        "id": "6hDLnj3H23ak"
      },
      "execution_count": null,
      "outputs": []
    },
    {
      "cell_type": "code",
      "source": [
        "print(f\"Train: {X_train.shape}, Validation: {X_val.shape}, Test: {X_test.shape}\")"
      ],
      "metadata": {
        "id": "vUpDZl0wx9Yq",
        "colab": {
          "base_uri": "https://localhost:8080/"
        },
        "outputId": "d781eea1-217b-4c19-8f67-39ec6ed159ec"
      },
      "execution_count": null,
      "outputs": [
        {
          "output_type": "stream",
          "name": "stdout",
          "text": [
            "Train: (49781, 14, 412), Validation: (10667, 14, 412), Test: (10669, 14, 412)\n"
          ]
        }
      ]
    },
    {
      "cell_type": "code",
      "source": [
        "timesteps = X_train.shape[1]\n",
        "n_features = X_train.shape[2]"
      ],
      "metadata": {
        "id": "7nvUbHrtx_tT"
      },
      "execution_count": null,
      "outputs": []
    },
    {
      "cell_type": "code",
      "source": [
        "input_layer = Input(shape=(n_features,))  # Should match (None, 412)\n",
        "print(input_layer.shape)"
      ],
      "metadata": {
        "colab": {
          "base_uri": "https://localhost:8080/"
        },
        "id": "Nr3e8wLc_HVU",
        "outputId": "1863a068-d538-4225-ec0d-b8e5770b2707"
      },
      "execution_count": null,
      "outputs": [
        {
          "output_type": "stream",
          "name": "stdout",
          "text": [
            "(None, 412)\n"
          ]
        }
      ]
    },
    {
      "cell_type": "code",
      "source": [
        "X_train_reshaped = X_train.reshape(-1, n_features)  # Flatten time steps\n",
        "X_val_reshaped = X_val.reshape(-1, n_features)\n",
        "print(X_train_reshaped.shape)\n",
        "print(X_val_reshaped.shape)"
      ],
      "metadata": {
        "colab": {
          "base_uri": "https://localhost:8080/"
        },
        "id": "fLBUKea0_RDE",
        "outputId": "af3ffbef-5f98-47b3-b728-a3dbc13ed22d"
      },
      "execution_count": null,
      "outputs": [
        {
          "output_type": "stream",
          "name": "stdout",
          "text": [
            "(696934, 412)\n",
            "(149338, 412)\n"
          ]
        }
      ]
    },
    {
      "cell_type": "code",
      "source": [
        "from tensorflow.keras.losses import MeanSquaredError\n",
        "from tensorflow.keras.layers import Lambda\n",
        "from tensorflow.keras import backend as K"
      ],
      "metadata": {
        "id": "1v2rPfyGAjpA"
      },
      "execution_count": null,
      "outputs": []
    },
    {
      "cell_type": "markdown",
      "source": [
        "# Food Allergy Autoencoder"
      ],
      "metadata": {
        "id": "_M1lC2bVFnb6"
      }
    },
    {
      "source": [
        "from tensorflow.keras.losses import MeanSquaredError\n",
        "from tensorflow.keras.layers import Input, Dense\n",
        "from tensorflow.keras.models import Model\n",
        "from tensorflow.keras import backend as K\n",
        "import tensorflow as tf\n",
        "from tensorflow.keras import regularizers\n",
        "from tensorflow.keras.callbacks import EarlyStopping\n",
        "\n",
        "# Define input dimensions\n",
        "input_dim = n_features  # Number of microbiome features\n",
        "\n",
        "# Sparsity Constraint (KL Divergence)\n",
        "rho = 0.01  # Desired average activation\n",
        "beta = 3    # Weight of sparsity penalty\n",
        "\n",
        "# Define a custom activity regularizer for KL Divergence\n",
        "class KLDivergenceRegularizer(regularizers.Regularizer):\n",
        "    def __init__(self, rho, beta):\n",
        "        self.rho = rho\n",
        "        self.beta = beta\n",
        "\n",
        "    def __call__(self, x):\n",
        "        # x is the output of the layer it's attached to\n",
        "        rho_hat = K.mean(x, axis=0)\n",
        "        # Add a small epsilon for numerical stability to prevent log(0)\n",
        "        rho_hat = K.clip(rho_hat, K.epsilon(), 1 - K.epsilon())\n",
        "        kl_div = self.rho * K.log(self.rho / rho_hat) + (1 - self.rho) * K.log((1 - rho_hat) / (1 - self.rho))\n",
        "        return self.beta * K.sum(kl_div)\n",
        "\n",
        "    def get_config(self):\n",
        "        return {'rho': self.rho, 'beta': self.beta}\n",
        "\n",
        "\n",
        "# Encoder\n",
        "input_layer = Input(shape=(input_dim,))\n",
        "encoded = Dense(60, activation='relu', kernel_regularizer=tf.keras.regularizers.l2(0.05))(input_layer)\n",
        "# Apply the custom activity regularizer to the layer you want to be sparse\n",
        "encoded_sparse_layer = Dense(\n",
        "    25,\n",
        "    activation='relu',\n",
        "    name='sparse_layer',\n",
        "    activity_regularizer=KLDivergenceRegularizer(rho, beta) # Apply sparsity here\n",
        ")(encoded)\n",
        "encoded = Dense(60, activation='relu')(encoded_sparse_layer)\n",
        "\n",
        "# Decoder\n",
        "decoded = Dense(input_dim, activation='sigmoid')(encoded)  # Output layer reconstructs input\n",
        "\n",
        "# Autoencoder Model\n",
        "autoencoder = Model(inputs=input_layer, outputs=decoded)\n",
        "\n",
        "# Compile Autoencoder with Reconstruction Loss (MSE)\n",
        "# The activity regularizer penalty is automatically added by Keras\n",
        "autoencoder.compile(optimizer=tf.keras.optimizers.Adam(learning_rate=0.001), loss='mse')\n",
        "\n",
        "# Train the model with batch size = 5 and epochs = 300\n",
        "# Define early stopping callback\n",
        "# Stop training when validation loss has not improved for 10 epochs\n",
        "early_stopping = EarlyStopping(monitor='val_loss', patience=10, restore_best_weights=True)\n",
        "# Train the model with early stopping\n",
        "autoencoder.fit(\n",
        "        X_train_reshaped, X_train_reshaped,\n",
        "        epochs=300, # Set a reasonably high number, early stopping will stop it sooner\n",
        "        batch_size=64,\n",
        "        validation_data=(X_val_reshaped, X_val_reshaped),\n",
        "        callbacks=[early_stopping], # Add the callback here\n",
        "        verbose=1\n",
        "    )"
      ],
      "cell_type": "code",
      "metadata": {
        "id": "n8R1F8FLDUTj",
        "colab": {
          "base_uri": "https://localhost:8080/"
        },
        "outputId": "6e81a730-9d51-4b1f-de94-0014b6fcbb51"
      },
      "execution_count": null,
      "outputs": [
        {
          "output_type": "stream",
          "name": "stdout",
          "text": [
            "Epoch 1/300\n",
            "\u001b[1m10890/10890\u001b[0m \u001b[32m━━━━━━━━━━━━━━━━━━━━\u001b[0m\u001b[37m\u001b[0m \u001b[1m31s\u001b[0m 3ms/step - loss: -1123.2030 - val_loss: -1186.4283\n",
            "Epoch 2/300\n",
            "\u001b[1m10890/10890\u001b[0m \u001b[32m━━━━━━━━━━━━━━━━━━━━\u001b[0m\u001b[37m\u001b[0m \u001b[1m28s\u001b[0m 3ms/step - loss: -1186.4249 - val_loss: -1186.4283\n",
            "Epoch 3/300\n",
            "\u001b[1m10890/10890\u001b[0m \u001b[32m━━━━━━━━━━━━━━━━━━━━\u001b[0m\u001b[37m\u001b[0m \u001b[1m28s\u001b[0m 3ms/step - loss: -1186.4248 - val_loss: -1186.4283\n",
            "Epoch 4/300\n",
            "\u001b[1m10890/10890\u001b[0m \u001b[32m━━━━━━━━━━━━━━━━━━━━\u001b[0m\u001b[37m\u001b[0m \u001b[1m28s\u001b[0m 3ms/step - loss: -1186.4226 - val_loss: -1186.4066\n",
            "Epoch 5/300\n",
            "\u001b[1m10890/10890\u001b[0m \u001b[32m━━━━━━━━━━━━━━━━━━━━\u001b[0m\u001b[37m\u001b[0m \u001b[1m27s\u001b[0m 3ms/step - loss: -1186.3632 - val_loss: -1186.4283\n",
            "Epoch 6/300\n",
            "\u001b[1m10890/10890\u001b[0m \u001b[32m━━━━━━━━━━━━━━━━━━━━\u001b[0m\u001b[37m\u001b[0m \u001b[1m28s\u001b[0m 3ms/step - loss: -1186.4248 - val_loss: -1186.4283\n",
            "Epoch 7/300\n",
            "\u001b[1m10890/10890\u001b[0m \u001b[32m━━━━━━━━━━━━━━━━━━━━\u001b[0m\u001b[37m\u001b[0m \u001b[1m29s\u001b[0m 3ms/step - loss: -1186.4078 - val_loss: -1186.4276\n",
            "Epoch 8/300\n",
            "\u001b[1m10890/10890\u001b[0m \u001b[32m━━━━━━━━━━━━━━━━━━━━\u001b[0m\u001b[37m\u001b[0m \u001b[1m29s\u001b[0m 3ms/step - loss: -1186.4180 - val_loss: -1186.4279\n",
            "Epoch 9/300\n",
            "\u001b[1m10890/10890\u001b[0m \u001b[32m━━━━━━━━━━━━━━━━━━━━\u001b[0m\u001b[37m\u001b[0m \u001b[1m29s\u001b[0m 3ms/step - loss: -1186.4180 - val_loss: -1186.4283\n",
            "Epoch 10/300\n",
            "\u001b[1m10890/10890\u001b[0m \u001b[32m━━━━━━━━━━━━━━━━━━━━\u001b[0m\u001b[37m\u001b[0m \u001b[1m28s\u001b[0m 3ms/step - loss: -1186.4242 - val_loss: -1186.4277\n",
            "Epoch 11/300\n",
            "\u001b[1m10890/10890\u001b[0m \u001b[32m━━━━━━━━━━━━━━━━━━━━\u001b[0m\u001b[37m\u001b[0m \u001b[1m27s\u001b[0m 3ms/step - loss: -1186.4222 - val_loss: -1186.3678\n"
          ]
        },
        {
          "output_type": "execute_result",
          "data": {
            "text/plain": [
              "<keras.src.callbacks.history.History at 0x7c07eab3bb90>"
            ]
          },
          "metadata": {},
          "execution_count": 26
        }
      ]
    },
    {
      "cell_type": "code",
      "source": [
        "import os\n",
        "\n",
        "# Define the directory to save the model\n",
        "save_dir = \"saved_models\"\n",
        "os.makedirs(save_dir, exist_ok=True)\n",
        "\n",
        "# Define the path to save the autoencoder model\n",
        "model_path = os.path.join(save_dir, \"sparse_autoencoder_model.keras\")\n",
        "\n",
        "# Save the entire model (architecture, weights, optimizer state, and custom objects)\n",
        "# Using the default SavedModel format\n",
        "autoencoder.save(model_path)\n",
        "\n",
        "print(f\"Model saved to {model_path}\")"
      ],
      "metadata": {
        "colab": {
          "base_uri": "https://localhost:8080/"
        },
        "id": "gtINLOOGEzlu",
        "outputId": "174e0955-940a-42f0-9c7b-9b78b9d41cca"
      },
      "execution_count": null,
      "outputs": [
        {
          "output_type": "stream",
          "name": "stdout",
          "text": [
            "Model saved to saved_models/sparse_autoencoder_model.keras\n"
          ]
        }
      ]
    },
    {
      "cell_type": "code",
      "source": [
        "# Print summary\n",
        "autoencoder.summary()"
      ],
      "metadata": {
        "colab": {
          "base_uri": "https://localhost:8080/",
          "height": 305
        },
        "id": "Jf-gpYkj_p4K",
        "outputId": "1d9f0a53-f253-4e6e-9ca5-e6420e95c5de"
      },
      "execution_count": null,
      "outputs": [
        {
          "output_type": "display_data",
          "data": {
            "text/plain": [
              "\u001b[1mModel: \"functional_1\"\u001b[0m\n"
            ],
            "text/html": [
              "<pre style=\"white-space:pre;overflow-x:auto;line-height:normal;font-family:Menlo,'DejaVu Sans Mono',consolas,'Courier New',monospace\"><span style=\"font-weight: bold\">Model: \"functional_1\"</span>\n",
              "</pre>\n"
            ]
          },
          "metadata": {}
        },
        {
          "output_type": "display_data",
          "data": {
            "text/plain": [
              "┏━━━━━━━━━━━━━━━━━━━━━━━━━━━━━━━━━┳━━━━━━━━━━━━━━━━━━━━━━━━┳━━━━━━━━━━━━━━━┓\n",
              "┃\u001b[1m \u001b[0m\u001b[1mLayer (type)                   \u001b[0m\u001b[1m \u001b[0m┃\u001b[1m \u001b[0m\u001b[1mOutput Shape          \u001b[0m\u001b[1m \u001b[0m┃\u001b[1m \u001b[0m\u001b[1m      Param #\u001b[0m\u001b[1m \u001b[0m┃\n",
              "┡━━━━━━━━━━━━━━━━━━━━━━━━━━━━━━━━━╇━━━━━━━━━━━━━━━━━━━━━━━━╇━━━━━━━━━━━━━━━┩\n",
              "│ input_layer_3 (\u001b[38;5;33mInputLayer\u001b[0m)      │ (\u001b[38;5;45mNone\u001b[0m, \u001b[38;5;34m412\u001b[0m)            │             \u001b[38;5;34m0\u001b[0m │\n",
              "├─────────────────────────────────┼────────────────────────┼───────────────┤\n",
              "│ dense_4 (\u001b[38;5;33mDense\u001b[0m)                 │ (\u001b[38;5;45mNone\u001b[0m, \u001b[38;5;34m60\u001b[0m)             │        \u001b[38;5;34m24,780\u001b[0m │\n",
              "├─────────────────────────────────┼────────────────────────┼───────────────┤\n",
              "│ sparse_layer (\u001b[38;5;33mDense\u001b[0m)            │ (\u001b[38;5;45mNone\u001b[0m, \u001b[38;5;34m25\u001b[0m)             │         \u001b[38;5;34m1,525\u001b[0m │\n",
              "├─────────────────────────────────┼────────────────────────┼───────────────┤\n",
              "│ dense_5 (\u001b[38;5;33mDense\u001b[0m)                 │ (\u001b[38;5;45mNone\u001b[0m, \u001b[38;5;34m60\u001b[0m)             │         \u001b[38;5;34m1,560\u001b[0m │\n",
              "├─────────────────────────────────┼────────────────────────┼───────────────┤\n",
              "│ dense_6 (\u001b[38;5;33mDense\u001b[0m)                 │ (\u001b[38;5;45mNone\u001b[0m, \u001b[38;5;34m412\u001b[0m)            │        \u001b[38;5;34m25,132\u001b[0m │\n",
              "└─────────────────────────────────┴────────────────────────┴───────────────┘\n"
            ],
            "text/html": [
              "<pre style=\"white-space:pre;overflow-x:auto;line-height:normal;font-family:Menlo,'DejaVu Sans Mono',consolas,'Courier New',monospace\">┏━━━━━━━━━━━━━━━━━━━━━━━━━━━━━━━━━┳━━━━━━━━━━━━━━━━━━━━━━━━┳━━━━━━━━━━━━━━━┓\n",
              "┃<span style=\"font-weight: bold\"> Layer (type)                    </span>┃<span style=\"font-weight: bold\"> Output Shape           </span>┃<span style=\"font-weight: bold\">       Param # </span>┃\n",
              "┡━━━━━━━━━━━━━━━━━━━━━━━━━━━━━━━━━╇━━━━━━━━━━━━━━━━━━━━━━━━╇━━━━━━━━━━━━━━━┩\n",
              "│ input_layer_3 (<span style=\"color: #0087ff; text-decoration-color: #0087ff\">InputLayer</span>)      │ (<span style=\"color: #00d7ff; text-decoration-color: #00d7ff\">None</span>, <span style=\"color: #00af00; text-decoration-color: #00af00\">412</span>)            │             <span style=\"color: #00af00; text-decoration-color: #00af00\">0</span> │\n",
              "├─────────────────────────────────┼────────────────────────┼───────────────┤\n",
              "│ dense_4 (<span style=\"color: #0087ff; text-decoration-color: #0087ff\">Dense</span>)                 │ (<span style=\"color: #00d7ff; text-decoration-color: #00d7ff\">None</span>, <span style=\"color: #00af00; text-decoration-color: #00af00\">60</span>)             │        <span style=\"color: #00af00; text-decoration-color: #00af00\">24,780</span> │\n",
              "├─────────────────────────────────┼────────────────────────┼───────────────┤\n",
              "│ sparse_layer (<span style=\"color: #0087ff; text-decoration-color: #0087ff\">Dense</span>)            │ (<span style=\"color: #00d7ff; text-decoration-color: #00d7ff\">None</span>, <span style=\"color: #00af00; text-decoration-color: #00af00\">25</span>)             │         <span style=\"color: #00af00; text-decoration-color: #00af00\">1,525</span> │\n",
              "├─────────────────────────────────┼────────────────────────┼───────────────┤\n",
              "│ dense_5 (<span style=\"color: #0087ff; text-decoration-color: #0087ff\">Dense</span>)                 │ (<span style=\"color: #00d7ff; text-decoration-color: #00d7ff\">None</span>, <span style=\"color: #00af00; text-decoration-color: #00af00\">60</span>)             │         <span style=\"color: #00af00; text-decoration-color: #00af00\">1,560</span> │\n",
              "├─────────────────────────────────┼────────────────────────┼───────────────┤\n",
              "│ dense_6 (<span style=\"color: #0087ff; text-decoration-color: #0087ff\">Dense</span>)                 │ (<span style=\"color: #00d7ff; text-decoration-color: #00d7ff\">None</span>, <span style=\"color: #00af00; text-decoration-color: #00af00\">412</span>)            │        <span style=\"color: #00af00; text-decoration-color: #00af00\">25,132</span> │\n",
              "└─────────────────────────────────┴────────────────────────┴───────────────┘\n",
              "</pre>\n"
            ]
          },
          "metadata": {}
        },
        {
          "output_type": "display_data",
          "data": {
            "text/plain": [
              "\u001b[1m Total params: \u001b[0m\u001b[38;5;34m158,993\u001b[0m (621.07 KB)\n"
            ],
            "text/html": [
              "<pre style=\"white-space:pre;overflow-x:auto;line-height:normal;font-family:Menlo,'DejaVu Sans Mono',consolas,'Courier New',monospace\"><span style=\"font-weight: bold\"> Total params: </span><span style=\"color: #00af00; text-decoration-color: #00af00\">158,993</span> (621.07 KB)\n",
              "</pre>\n"
            ]
          },
          "metadata": {}
        },
        {
          "output_type": "display_data",
          "data": {
            "text/plain": [
              "\u001b[1m Trainable params: \u001b[0m\u001b[38;5;34m52,997\u001b[0m (207.02 KB)\n"
            ],
            "text/html": [
              "<pre style=\"white-space:pre;overflow-x:auto;line-height:normal;font-family:Menlo,'DejaVu Sans Mono',consolas,'Courier New',monospace\"><span style=\"font-weight: bold\"> Trainable params: </span><span style=\"color: #00af00; text-decoration-color: #00af00\">52,997</span> (207.02 KB)\n",
              "</pre>\n"
            ]
          },
          "metadata": {}
        },
        {
          "output_type": "display_data",
          "data": {
            "text/plain": [
              "\u001b[1m Non-trainable params: \u001b[0m\u001b[38;5;34m0\u001b[0m (0.00 B)\n"
            ],
            "text/html": [
              "<pre style=\"white-space:pre;overflow-x:auto;line-height:normal;font-family:Menlo,'DejaVu Sans Mono',consolas,'Courier New',monospace\"><span style=\"font-weight: bold\"> Non-trainable params: </span><span style=\"color: #00af00; text-decoration-color: #00af00\">0</span> (0.00 B)\n",
              "</pre>\n"
            ]
          },
          "metadata": {}
        },
        {
          "output_type": "display_data",
          "data": {
            "text/plain": [
              "\u001b[1m Optimizer params: \u001b[0m\u001b[38;5;34m105,996\u001b[0m (414.05 KB)\n"
            ],
            "text/html": [
              "<pre style=\"white-space:pre;overflow-x:auto;line-height:normal;font-family:Menlo,'DejaVu Sans Mono',consolas,'Courier New',monospace\"><span style=\"font-weight: bold\"> Optimizer params: </span><span style=\"color: #00af00; text-decoration-color: #00af00\">105,996</span> (414.05 KB)\n",
              "</pre>\n"
            ]
          },
          "metadata": {}
        }
      ]
    },
    {
      "cell_type": "code",
      "source": [
        "X_train_reshaped = X_train.reshape(-1, n_features)  # Flatten time steps\n",
        "X_val_reshaped = X_val.reshape(-1, n_features)\n",
        "X_test_reshaped = X_test.reshape(-1, n_features)\n",
        "print(X_train_reshaped.shape)\n",
        "print(X_val_reshaped.shape)\n",
        "print(X_test_reshaped.shape)"
      ],
      "metadata": {
        "colab": {
          "base_uri": "https://localhost:8080/"
        },
        "id": "tXBL842hH73I",
        "outputId": "2e580113-3f21-4de5-82c3-4d44278836a2"
      },
      "execution_count": null,
      "outputs": [
        {
          "output_type": "stream",
          "name": "stdout",
          "text": [
            "(696934, 412)\n",
            "(149338, 412)\n",
            "(149366, 412)\n"
          ]
        }
      ]
    },
    {
      "source": [
        "# Assuming 'autoencoder' is your trained model from the previous steps\n",
        "# And 'encoded_sparse_layer' is the output tensor of the sparse layer\n",
        "\n",
        "# 1. Create the Encoder Model\n",
        "# Define the input to the encoder (same as autoencoder input)\n",
        "encoder_input = autoencoder.input\n",
        "# Define the output of the encoder (the output of the sparse layer by name)\n",
        "# Find the sparse layer by name\n",
        "sparse_layer_output = autoencoder.get_layer('sparse_layer').output\n",
        "\n",
        "# Create the encoder model\n",
        "encoder_model = Model(inputs=encoder_input, outputs=sparse_layer_output)\n",
        "\n",
        "# Print the summary to verify the encoder structure\n",
        "print(\"\\nEncoder Model Summary:\")\n",
        "encoder_model.summary()\n",
        "\n",
        "# 2. Use the Encoder to Transform Your Data\n",
        "# Apply the encoder model to your original 3D time series data (X_train, X_val, X_test)\n",
        "# Note: The encoder expects 2D input (samples, features), so we need to apply it\n",
        "# to the reshaped data and then reshape the output back to 3D if needed for LSTM.\n",
        "\n",
        "# Transform the reshaped data first\n",
        "X_train_encoded_reshaped = encoder_model.predict(X_train_reshaped)\n",
        "X_val_encoded_reshaped = encoder_model.predict(X_val_reshaped)\n",
        "X_test_encoded_reshaped = encoder_model.predict(X_test_reshaped)\n",
        "\n",
        "# X_train_encoded_reshaped now has shape (num_sequences * seq_len, sparse_features_dim)\n",
        "# We need to reshape it back to the original 3D structure for the LSTM\n",
        "# (num_sequences, seq_len, sparse_features_dim)\n",
        "\n",
        "seq_len = 14 # Your defined sequence length\n",
        "sparse_features_dim = X_train_encoded_reshaped.shape[-1] # Should be 25 based on your autoencoder\n",
        "\n",
        "X_train_encoded = X_train_encoded_reshaped.reshape(-1, seq_len, sparse_features_dim)\n",
        "X_val_encoded = X_val_encoded_reshaped.reshape(-1, seq_len, sparse_features_dim)\n",
        "X_test_encoded = X_test_encoded_reshaped.reshape(-1, seq_len, sparse_features_dim)\n",
        "\n",
        "print(f\"\\nOriginal X_train shape: {X_train.shape}\")\n",
        "print(f\"Encoded X_train shape: {X_train_encoded.shape}\")\n",
        "print(f\"Original X_val shape: {X_val.shape}\")\n",
        "print(f\"Encoded X_val shape: {X_val_encoded.shape}\")\n",
        "print(f\"Original X_test shape: {X_test.shape}\")\n",
        "print(f\"Encoded X_test shape: {X_test_encoded.shape}\")\n",
        "\n",
        "# 3. Build and Train Your LSTM Model\n",
        "from tensorflow.keras.layers import LSTM\n",
        "from tensorflow.keras.models import Sequential\n",
        "\n",
        "# Define LSTM model architecture\n",
        "lstm_model = Sequential([\n",
        "    Input(shape=(seq_len, sparse_features_dim)), # Input shape is (timesteps, features)\n",
        "    LSTM(64, return_sequences=False), # LSTM layer, return_sequences=False for many-to-one prediction\n",
        "    Dense(32, activation='relu'),\n",
        "    Dense(1, activation='sigmoid') # Output layer for binary classification (dysbiosis)\n",
        "])\n",
        "\n",
        "# Compile the LSTM model\n",
        "lstm_model.compile(optimizer='adam', loss='binary_crossentropy', metrics=['accuracy'])\n",
        "\n",
        "# Print LSTM model summary\n",
        "print(\"\\nLSTM Model Summary:\")\n",
        "lstm_model.summary()\n",
        "\n",
        "# Monitor validation loss and stop if it doesn't improve for, say, 15 epochs\n",
        "lstm_early_stopping = EarlyStopping(monitor='val_loss', patience=15, restore_best_weights=True) # Increased patience slightly as an example\n",
        "\n",
        "\n",
        "# Train the LSTM model using the encoded features and original labels (y_train, y_val)\n",
        "print(\"\\nTraining LSTM Model:\")\n",
        "lstm_model.fit(\n",
        "    X_train_encoded, y_train,\n",
        "    epochs=50, # Or use EarlyStopping\n",
        "    batch_size=64,\n",
        "    validation_data=(X_val_encoded, y_val),\n",
        "    callbacks=[lstm_early_stopping],\n",
        "    verbose=1\n",
        ")\n",
        "\n",
        "# 4. Evaluate the LSTM Model\n",
        "loss, accuracy = lstm_model.evaluate(X_test_encoded, y_test, verbose=0)\n",
        "print(f\"\\nLSTM Test Loss: {loss:.4f}, LSTM Test Accuracy: {accuracy:.4f}\")"
      ],
      "cell_type": "code",
      "metadata": {
        "colab": {
          "base_uri": "https://localhost:8080/",
          "height": 1000
        },
        "id": "0dMdZ4u1Hsab",
        "outputId": "426d9de2-2b9a-457d-a4d1-178e5b85a39b"
      },
      "execution_count": null,
      "outputs": [
        {
          "output_type": "stream",
          "name": "stdout",
          "text": [
            "\n",
            "Encoder Model Summary:\n"
          ]
        },
        {
          "output_type": "display_data",
          "data": {
            "text/plain": [
              "\u001b[1mModel: \"functional_1\"\u001b[0m\n"
            ],
            "text/html": [
              "<pre style=\"white-space:pre;overflow-x:auto;line-height:normal;font-family:Menlo,'DejaVu Sans Mono',consolas,'Courier New',monospace\"><span style=\"font-weight: bold\">Model: \"functional_1\"</span>\n",
              "</pre>\n"
            ]
          },
          "metadata": {}
        },
        {
          "output_type": "display_data",
          "data": {
            "text/plain": [
              "┏━━━━━━━━━━━━━━━━━━━━━━━━━━━━━━━━━┳━━━━━━━━━━━━━━━━━━━━━━━━┳━━━━━━━━━━━━━━━┓\n",
              "┃\u001b[1m \u001b[0m\u001b[1mLayer (type)                   \u001b[0m\u001b[1m \u001b[0m┃\u001b[1m \u001b[0m\u001b[1mOutput Shape          \u001b[0m\u001b[1m \u001b[0m┃\u001b[1m \u001b[0m\u001b[1m      Param #\u001b[0m\u001b[1m \u001b[0m┃\n",
              "┡━━━━━━━━━━━━━━━━━━━━━━━━━━━━━━━━━╇━━━━━━━━━━━━━━━━━━━━━━━━╇━━━━━━━━━━━━━━━┩\n",
              "│ input_layer (\u001b[38;5;33mInputLayer\u001b[0m)        │ (\u001b[38;5;45mNone\u001b[0m, \u001b[38;5;34m412\u001b[0m)            │             \u001b[38;5;34m0\u001b[0m │\n",
              "├─────────────────────────────────┼────────────────────────┼───────────────┤\n",
              "│ dense (\u001b[38;5;33mDense\u001b[0m)                   │ (\u001b[38;5;45mNone\u001b[0m, \u001b[38;5;34m60\u001b[0m)             │        \u001b[38;5;34m24,780\u001b[0m │\n",
              "├─────────────────────────────────┼────────────────────────┼───────────────┤\n",
              "│ sparse_layer (\u001b[38;5;33mDense\u001b[0m)            │ (\u001b[38;5;45mNone\u001b[0m, \u001b[38;5;34m25\u001b[0m)             │         \u001b[38;5;34m1,525\u001b[0m │\n",
              "└─────────────────────────────────┴────────────────────────┴───────────────┘\n"
            ],
            "text/html": [
              "<pre style=\"white-space:pre;overflow-x:auto;line-height:normal;font-family:Menlo,'DejaVu Sans Mono',consolas,'Courier New',monospace\">┏━━━━━━━━━━━━━━━━━━━━━━━━━━━━━━━━━┳━━━━━━━━━━━━━━━━━━━━━━━━┳━━━━━━━━━━━━━━━┓\n",
              "┃<span style=\"font-weight: bold\"> Layer (type)                    </span>┃<span style=\"font-weight: bold\"> Output Shape           </span>┃<span style=\"font-weight: bold\">       Param # </span>┃\n",
              "┡━━━━━━━━━━━━━━━━━━━━━━━━━━━━━━━━━╇━━━━━━━━━━━━━━━━━━━━━━━━╇━━━━━━━━━━━━━━━┩\n",
              "│ input_layer (<span style=\"color: #0087ff; text-decoration-color: #0087ff\">InputLayer</span>)        │ (<span style=\"color: #00d7ff; text-decoration-color: #00d7ff\">None</span>, <span style=\"color: #00af00; text-decoration-color: #00af00\">412</span>)            │             <span style=\"color: #00af00; text-decoration-color: #00af00\">0</span> │\n",
              "├─────────────────────────────────┼────────────────────────┼───────────────┤\n",
              "│ dense (<span style=\"color: #0087ff; text-decoration-color: #0087ff\">Dense</span>)                   │ (<span style=\"color: #00d7ff; text-decoration-color: #00d7ff\">None</span>, <span style=\"color: #00af00; text-decoration-color: #00af00\">60</span>)             │        <span style=\"color: #00af00; text-decoration-color: #00af00\">24,780</span> │\n",
              "├─────────────────────────────────┼────────────────────────┼───────────────┤\n",
              "│ sparse_layer (<span style=\"color: #0087ff; text-decoration-color: #0087ff\">Dense</span>)            │ (<span style=\"color: #00d7ff; text-decoration-color: #00d7ff\">None</span>, <span style=\"color: #00af00; text-decoration-color: #00af00\">25</span>)             │         <span style=\"color: #00af00; text-decoration-color: #00af00\">1,525</span> │\n",
              "└─────────────────────────────────┴────────────────────────┴───────────────┘\n",
              "</pre>\n"
            ]
          },
          "metadata": {}
        },
        {
          "output_type": "display_data",
          "data": {
            "text/plain": [
              "\u001b[1m Total params: \u001b[0m\u001b[38;5;34m26,305\u001b[0m (102.75 KB)\n"
            ],
            "text/html": [
              "<pre style=\"white-space:pre;overflow-x:auto;line-height:normal;font-family:Menlo,'DejaVu Sans Mono',consolas,'Courier New',monospace\"><span style=\"font-weight: bold\"> Total params: </span><span style=\"color: #00af00; text-decoration-color: #00af00\">26,305</span> (102.75 KB)\n",
              "</pre>\n"
            ]
          },
          "metadata": {}
        },
        {
          "output_type": "display_data",
          "data": {
            "text/plain": [
              "\u001b[1m Trainable params: \u001b[0m\u001b[38;5;34m26,305\u001b[0m (102.75 KB)\n"
            ],
            "text/html": [
              "<pre style=\"white-space:pre;overflow-x:auto;line-height:normal;font-family:Menlo,'DejaVu Sans Mono',consolas,'Courier New',monospace\"><span style=\"font-weight: bold\"> Trainable params: </span><span style=\"color: #00af00; text-decoration-color: #00af00\">26,305</span> (102.75 KB)\n",
              "</pre>\n"
            ]
          },
          "metadata": {}
        },
        {
          "output_type": "display_data",
          "data": {
            "text/plain": [
              "\u001b[1m Non-trainable params: \u001b[0m\u001b[38;5;34m0\u001b[0m (0.00 B)\n"
            ],
            "text/html": [
              "<pre style=\"white-space:pre;overflow-x:auto;line-height:normal;font-family:Menlo,'DejaVu Sans Mono',consolas,'Courier New',monospace\"><span style=\"font-weight: bold\"> Non-trainable params: </span><span style=\"color: #00af00; text-decoration-color: #00af00\">0</span> (0.00 B)\n",
              "</pre>\n"
            ]
          },
          "metadata": {}
        },
        {
          "output_type": "stream",
          "name": "stdout",
          "text": [
            "\u001b[1m21780/21780\u001b[0m \u001b[32m━━━━━━━━━━━━━━━━━━━━\u001b[0m\u001b[37m\u001b[0m \u001b[1m15s\u001b[0m 688us/step\n",
            "\u001b[1m4667/4667\u001b[0m \u001b[32m━━━━━━━━━━━━━━━━━━━━\u001b[0m\u001b[37m\u001b[0m \u001b[1m3s\u001b[0m 685us/step\n",
            "\u001b[1m4668/4668\u001b[0m \u001b[32m━━━━━━━━━━━━━━━━━━━━\u001b[0m\u001b[37m\u001b[0m \u001b[1m3s\u001b[0m 678us/step\n",
            "\n",
            "Original X_train shape: (49781, 14, 412)\n",
            "Encoded X_train shape: (49781, 14, 25)\n",
            "Original X_val shape: (10667, 14, 412)\n",
            "Encoded X_val shape: (10667, 14, 25)\n",
            "Original X_test shape: (10669, 14, 412)\n",
            "Encoded X_test shape: (10669, 14, 25)\n",
            "\n",
            "LSTM Model Summary:\n"
          ]
        },
        {
          "output_type": "display_data",
          "data": {
            "text/plain": [
              "\u001b[1mModel: \"sequential\"\u001b[0m\n"
            ],
            "text/html": [
              "<pre style=\"white-space:pre;overflow-x:auto;line-height:normal;font-family:Menlo,'DejaVu Sans Mono',consolas,'Courier New',monospace\"><span style=\"font-weight: bold\">Model: \"sequential\"</span>\n",
              "</pre>\n"
            ]
          },
          "metadata": {}
        },
        {
          "output_type": "display_data",
          "data": {
            "text/plain": [
              "┏━━━━━━━━━━━━━━━━━━━━━━━━━━━━━━━━━┳━━━━━━━━━━━━━━━━━━━━━━━━┳━━━━━━━━━━━━━━━┓\n",
              "┃\u001b[1m \u001b[0m\u001b[1mLayer (type)                   \u001b[0m\u001b[1m \u001b[0m┃\u001b[1m \u001b[0m\u001b[1mOutput Shape          \u001b[0m\u001b[1m \u001b[0m┃\u001b[1m \u001b[0m\u001b[1m      Param #\u001b[0m\u001b[1m \u001b[0m┃\n",
              "┡━━━━━━━━━━━━━━━━━━━━━━━━━━━━━━━━━╇━━━━━━━━━━━━━━━━━━━━━━━━╇━━━━━━━━━━━━━━━┩\n",
              "│ lstm (\u001b[38;5;33mLSTM\u001b[0m)                     │ (\u001b[38;5;45mNone\u001b[0m, \u001b[38;5;34m64\u001b[0m)             │        \u001b[38;5;34m23,040\u001b[0m │\n",
              "├─────────────────────────────────┼────────────────────────┼───────────────┤\n",
              "│ dense_3 (\u001b[38;5;33mDense\u001b[0m)                 │ (\u001b[38;5;45mNone\u001b[0m, \u001b[38;5;34m32\u001b[0m)             │         \u001b[38;5;34m2,080\u001b[0m │\n",
              "├─────────────────────────────────┼────────────────────────┼───────────────┤\n",
              "│ dense_4 (\u001b[38;5;33mDense\u001b[0m)                 │ (\u001b[38;5;45mNone\u001b[0m, \u001b[38;5;34m1\u001b[0m)              │            \u001b[38;5;34m33\u001b[0m │\n",
              "└─────────────────────────────────┴────────────────────────┴───────────────┘\n"
            ],
            "text/html": [
              "<pre style=\"white-space:pre;overflow-x:auto;line-height:normal;font-family:Menlo,'DejaVu Sans Mono',consolas,'Courier New',monospace\">┏━━━━━━━━━━━━━━━━━━━━━━━━━━━━━━━━━┳━━━━━━━━━━━━━━━━━━━━━━━━┳━━━━━━━━━━━━━━━┓\n",
              "┃<span style=\"font-weight: bold\"> Layer (type)                    </span>┃<span style=\"font-weight: bold\"> Output Shape           </span>┃<span style=\"font-weight: bold\">       Param # </span>┃\n",
              "┡━━━━━━━━━━━━━━━━━━━━━━━━━━━━━━━━━╇━━━━━━━━━━━━━━━━━━━━━━━━╇━━━━━━━━━━━━━━━┩\n",
              "│ lstm (<span style=\"color: #0087ff; text-decoration-color: #0087ff\">LSTM</span>)                     │ (<span style=\"color: #00d7ff; text-decoration-color: #00d7ff\">None</span>, <span style=\"color: #00af00; text-decoration-color: #00af00\">64</span>)             │        <span style=\"color: #00af00; text-decoration-color: #00af00\">23,040</span> │\n",
              "├─────────────────────────────────┼────────────────────────┼───────────────┤\n",
              "│ dense_3 (<span style=\"color: #0087ff; text-decoration-color: #0087ff\">Dense</span>)                 │ (<span style=\"color: #00d7ff; text-decoration-color: #00d7ff\">None</span>, <span style=\"color: #00af00; text-decoration-color: #00af00\">32</span>)             │         <span style=\"color: #00af00; text-decoration-color: #00af00\">2,080</span> │\n",
              "├─────────────────────────────────┼────────────────────────┼───────────────┤\n",
              "│ dense_4 (<span style=\"color: #0087ff; text-decoration-color: #0087ff\">Dense</span>)                 │ (<span style=\"color: #00d7ff; text-decoration-color: #00d7ff\">None</span>, <span style=\"color: #00af00; text-decoration-color: #00af00\">1</span>)              │            <span style=\"color: #00af00; text-decoration-color: #00af00\">33</span> │\n",
              "└─────────────────────────────────┴────────────────────────┴───────────────┘\n",
              "</pre>\n"
            ]
          },
          "metadata": {}
        },
        {
          "output_type": "display_data",
          "data": {
            "text/plain": [
              "\u001b[1m Total params: \u001b[0m\u001b[38;5;34m25,153\u001b[0m (98.25 KB)\n"
            ],
            "text/html": [
              "<pre style=\"white-space:pre;overflow-x:auto;line-height:normal;font-family:Menlo,'DejaVu Sans Mono',consolas,'Courier New',monospace\"><span style=\"font-weight: bold\"> Total params: </span><span style=\"color: #00af00; text-decoration-color: #00af00\">25,153</span> (98.25 KB)\n",
              "</pre>\n"
            ]
          },
          "metadata": {}
        },
        {
          "output_type": "display_data",
          "data": {
            "text/plain": [
              "\u001b[1m Trainable params: \u001b[0m\u001b[38;5;34m25,153\u001b[0m (98.25 KB)\n"
            ],
            "text/html": [
              "<pre style=\"white-space:pre;overflow-x:auto;line-height:normal;font-family:Menlo,'DejaVu Sans Mono',consolas,'Courier New',monospace\"><span style=\"font-weight: bold\"> Trainable params: </span><span style=\"color: #00af00; text-decoration-color: #00af00\">25,153</span> (98.25 KB)\n",
              "</pre>\n"
            ]
          },
          "metadata": {}
        },
        {
          "output_type": "display_data",
          "data": {
            "text/plain": [
              "\u001b[1m Non-trainable params: \u001b[0m\u001b[38;5;34m0\u001b[0m (0.00 B)\n"
            ],
            "text/html": [
              "<pre style=\"white-space:pre;overflow-x:auto;line-height:normal;font-family:Menlo,'DejaVu Sans Mono',consolas,'Courier New',monospace\"><span style=\"font-weight: bold\"> Non-trainable params: </span><span style=\"color: #00af00; text-decoration-color: #00af00\">0</span> (0.00 B)\n",
              "</pre>\n"
            ]
          },
          "metadata": {}
        },
        {
          "output_type": "stream",
          "name": "stdout",
          "text": [
            "\n",
            "Training LSTM Model:\n",
            "Epoch 1/50\n",
            "\u001b[1m778/778\u001b[0m \u001b[32m━━━━━━━━━━━━━━━━━━━━\u001b[0m\u001b[37m\u001b[0m \u001b[1m9s\u001b[0m 9ms/step - accuracy: 0.7804 - loss: 0.5297 - val_accuracy: 0.7806 - val_loss: 0.5287\n",
            "Epoch 2/50\n",
            "\u001b[1m778/778\u001b[0m \u001b[32m━━━━━━━━━━━━━━━━━━━━\u001b[0m\u001b[37m\u001b[0m \u001b[1m7s\u001b[0m 8ms/step - accuracy: 0.7797 - loss: 0.5283 - val_accuracy: 0.7806 - val_loss: 0.5262\n",
            "Epoch 3/50\n",
            "\u001b[1m778/778\u001b[0m \u001b[32m━━━━━━━━━━━━━━━━━━━━\u001b[0m\u001b[37m\u001b[0m \u001b[1m6s\u001b[0m 8ms/step - accuracy: 0.7818 - loss: 0.5253 - val_accuracy: 0.7806 - val_loss: 0.5267\n",
            "Epoch 4/50\n",
            "\u001b[1m778/778\u001b[0m \u001b[32m━━━━━━━━━━━━━━━━━━━━\u001b[0m\u001b[37m\u001b[0m \u001b[1m6s\u001b[0m 8ms/step - accuracy: 0.7844 - loss: 0.5220 - val_accuracy: 0.7806 - val_loss: 0.5262\n",
            "Epoch 5/50\n",
            "\u001b[1m778/778\u001b[0m \u001b[32m━━━━━━━━━━━━━━━━━━━━\u001b[0m\u001b[37m\u001b[0m \u001b[1m6s\u001b[0m 8ms/step - accuracy: 0.7814 - loss: 0.5255 - val_accuracy: 0.7806 - val_loss: 0.5261\n",
            "Epoch 6/50\n",
            "\u001b[1m778/778\u001b[0m \u001b[32m━━━━━━━━━━━━━━━━━━━━\u001b[0m\u001b[37m\u001b[0m \u001b[1m6s\u001b[0m 8ms/step - accuracy: 0.7814 - loss: 0.5256 - val_accuracy: 0.7806 - val_loss: 0.5273\n",
            "Epoch 7/50\n",
            "\u001b[1m778/778\u001b[0m \u001b[32m━━━━━━━━━━━━━━━━━━━━\u001b[0m\u001b[37m\u001b[0m \u001b[1m7s\u001b[0m 8ms/step - accuracy: 0.7778 - loss: 0.5301 - val_accuracy: 0.7806 - val_loss: 0.5269\n",
            "Epoch 8/50\n",
            "\u001b[1m778/778\u001b[0m \u001b[32m━━━━━━━━━━━━━━━━━━━━\u001b[0m\u001b[37m\u001b[0m \u001b[1m7s\u001b[0m 9ms/step - accuracy: 0.7791 - loss: 0.5286 - val_accuracy: 0.7806 - val_loss: 0.5261\n",
            "Epoch 9/50\n",
            "\u001b[1m778/778\u001b[0m \u001b[32m━━━━━━━━━━━━━━━━━━━━\u001b[0m\u001b[37m\u001b[0m \u001b[1m7s\u001b[0m 8ms/step - accuracy: 0.7823 - loss: 0.5243 - val_accuracy: 0.7806 - val_loss: 0.5263\n",
            "Epoch 10/50\n",
            "\u001b[1m778/778\u001b[0m \u001b[32m━━━━━━━━━━━━━━━━━━━━\u001b[0m\u001b[37m\u001b[0m \u001b[1m7s\u001b[0m 9ms/step - accuracy: 0.7824 - loss: 0.5240 - val_accuracy: 0.7806 - val_loss: 0.5268\n",
            "Epoch 11/50\n",
            "\u001b[1m778/778\u001b[0m \u001b[32m━━━━━━━━━━━━━━━━━━━━\u001b[0m\u001b[37m\u001b[0m \u001b[1m7s\u001b[0m 9ms/step - accuracy: 0.7786 - loss: 0.5289 - val_accuracy: 0.7806 - val_loss: 0.5263\n",
            "Epoch 12/50\n",
            "\u001b[1m778/778\u001b[0m \u001b[32m━━━━━━━━━━━━━━━━━━━━\u001b[0m\u001b[37m\u001b[0m \u001b[1m7s\u001b[0m 8ms/step - accuracy: 0.7816 - loss: 0.5252 - val_accuracy: 0.7806 - val_loss: 0.5261\n",
            "Epoch 13/50\n",
            "\u001b[1m778/778\u001b[0m \u001b[32m━━━━━━━━━━━━━━━━━━━━\u001b[0m\u001b[37m\u001b[0m \u001b[1m6s\u001b[0m 8ms/step - accuracy: 0.7820 - loss: 0.5245 - val_accuracy: 0.7806 - val_loss: 0.5263\n",
            "Epoch 14/50\n",
            "\u001b[1m778/778\u001b[0m \u001b[32m━━━━━━━━━━━━━━━━━━━━\u001b[0m\u001b[37m\u001b[0m \u001b[1m7s\u001b[0m 8ms/step - accuracy: 0.7828 - loss: 0.5236 - val_accuracy: 0.7806 - val_loss: 0.5272\n",
            "Epoch 15/50\n",
            "\u001b[1m778/778\u001b[0m \u001b[32m━━━━━━━━━━━━━━━━━━━━\u001b[0m\u001b[37m\u001b[0m \u001b[1m6s\u001b[0m 8ms/step - accuracy: 0.7805 - loss: 0.5267 - val_accuracy: 0.7806 - val_loss: 0.5264\n",
            "Epoch 16/50\n",
            "\u001b[1m778/778\u001b[0m \u001b[32m━━━━━━━━━━━━━━━━━━━━\u001b[0m\u001b[37m\u001b[0m \u001b[1m7s\u001b[0m 8ms/step - accuracy: 0.7792 - loss: 0.5280 - val_accuracy: 0.7806 - val_loss: 0.5262\n",
            "Epoch 17/50\n",
            "\u001b[1m778/778\u001b[0m \u001b[32m━━━━━━━━━━━━━━━━━━━━\u001b[0m\u001b[37m\u001b[0m \u001b[1m7s\u001b[0m 9ms/step - accuracy: 0.7765 - loss: 0.5315 - val_accuracy: 0.7806 - val_loss: 0.5262\n",
            "Epoch 18/50\n",
            "\u001b[1m778/778\u001b[0m \u001b[32m━━━━━━━━━━━━━━━━━━━━\u001b[0m\u001b[37m\u001b[0m \u001b[1m7s\u001b[0m 9ms/step - accuracy: 0.7804 - loss: 0.5265 - val_accuracy: 0.7806 - val_loss: 0.5264\n",
            "Epoch 19/50\n",
            "\u001b[1m778/778\u001b[0m \u001b[32m━━━━━━━━━━━━━━━━━━━━\u001b[0m\u001b[37m\u001b[0m \u001b[1m6s\u001b[0m 8ms/step - accuracy: 0.7786 - loss: 0.5291 - val_accuracy: 0.7806 - val_loss: 0.5261\n",
            "Epoch 20/50\n",
            "\u001b[1m778/778\u001b[0m \u001b[32m━━━━━━━━━━━━━━━━━━━━\u001b[0m\u001b[37m\u001b[0m \u001b[1m6s\u001b[0m 7ms/step - accuracy: 0.7794 - loss: 0.5279 - val_accuracy: 0.7806 - val_loss: 0.5261\n",
            "\n",
            "LSTM Test Loss: 0.7841, LSTM Test Accuracy: 0.5773\n"
          ]
        }
      ]
    },
    {
      "cell_type": "code",
      "source": [
        "# prompt: Print Classification Reports, RoC (AUC), PR Curve and all relevant metrics\n",
        "\n",
        "from sklearn.metrics import classification_report, roc_curve, auc, precision_recall_curve, average_precision_score\n",
        "import matplotlib.pyplot as plt\n",
        "\n",
        "# 5. Make Predictions on the Test Set\n",
        "y_pred_proba = lstm_model.predict(X_test_encoded).ravel() # Get probabilities and flatten\n",
        "y_pred_class = (y_pred_proba > 0.5).astype(int) # Convert probabilities to binary class predictions\n",
        "\n",
        "# 6. Print Classification Report\n",
        "print(\"\\nClassification Report:\")\n",
        "print(classification_report(y_test, y_pred_class, zero_division=1))\n",
        "\n",
        "# 7. Calculate and Print ROC AUC\n",
        "fpr, tpr, thresholds_roc = roc_curve(y_test, y_pred_proba)\n",
        "roc_auc = auc(fpr, tpr)\n",
        "print(f\"ROC AUC: {roc_auc:.4f}\")\n",
        "\n",
        "# 8. Plot ROC Curve\n",
        "plt.figure(figsize=(8, 6))\n",
        "plt.plot(fpr, tpr, color='darkorange', lw=2, label=f'ROC curve (AUC = {roc_auc:.4f})')\n",
        "plt.plot([0, 1], [0, 1], color='navy', lw=2, linestyle='--')\n",
        "plt.xlim([0.0, 1.0])\n",
        "plt.ylim([0.0, 1.05])\n",
        "plt.xlabel('False Positive Rate')\n",
        "plt.ylabel('True Positive Rate')\n",
        "plt.title('Receiver Operating Characteristic (ROC) Curve')\n",
        "plt.legend(loc=\"lower right\")\n",
        "plt.grid(True)\n",
        "plt.show()\n",
        "\n",
        "# 9. Calculate and Print Average Precision Score (PR AUC)\n",
        "average_precision = average_precision_score(y_test, y_pred_proba)\n",
        "print(f\"Average Precision (PR AUC): {average_precision:.4f}\")\n",
        "\n",
        "# 10. Plot Precision-Recall Curve\n",
        "precision, recall, thresholds_pr = precision_recall_curve(y_test, y_pred_proba)\n",
        "plt.figure(figsize=(8, 6))\n",
        "plt.plot(recall, precision, color='blue', lw=2, label=f'PR curve (AP = {average_precision:.4f})')\n",
        "plt.xlabel('Recall')\n",
        "plt.ylabel('Precision')\n",
        "plt.title('Precision-Recall Curve')\n",
        "plt.legend(loc=\"lower left\")\n",
        "plt.grid(True)\n",
        "plt.show()"
      ],
      "metadata": {
        "colab": {
          "base_uri": "https://localhost:8080/",
          "height": 1000
        },
        "id": "93EdbgL2JYbe",
        "outputId": "738f5f0d-fe86-4f35-9a73-0dc8998483fc"
      },
      "execution_count": null,
      "outputs": [
        {
          "output_type": "stream",
          "name": "stdout",
          "text": [
            "\u001b[1m334/334\u001b[0m \u001b[32m━━━━━━━━━━━━━━━━━━━━\u001b[0m\u001b[37m\u001b[0m \u001b[1m1s\u001b[0m 3ms/step\n",
            "\n",
            "Classification Report:\n",
            "              precision    recall  f1-score   support\n",
            "\n",
            "           0       0.58      1.00      0.73      6159\n",
            "           1       1.00      0.00      0.00      4510\n",
            "\n",
            "    accuracy                           0.58     10669\n",
            "   macro avg       0.79      0.50      0.37     10669\n",
            "weighted avg       0.76      0.58      0.42     10669\n",
            "\n",
            "ROC AUC: 0.5863\n"
          ]
        },
        {
          "output_type": "display_data",
          "data": {
            "text/plain": [
              "<Figure size 800x600 with 1 Axes>"
            ],
            "image/png": "[encoded data removed]"
          },
          "metadata": {}
        },
        {
          "output_type": "stream",
          "name": "stdout",
          "text": [
            "Average Precision (PR AUC): 0.5003\n"
          ]
        },
        {
          "output_type": "display_data",
          "data": {
            "text/plain": [
              "<Figure size 800x600 with 1 Axes>"
            ],
            "image/png": "[encoded data removed]"
          },
          "metadata": {}
        }
      ]
    },
    {
      "cell_type": "code",
      "source": [
        "# 11. Print Additional Relevant Metrics (from classification report)\n",
        "print(\"\\nAdditional Metrics:\")\n",
        "report_dict = classification_report(y_test, y_pred_class, output_dict=True,zero_division=1)\n",
        "print(f\"Accuracy: {report_dict['accuracy']:.4f}\")\n",
        "# For the positive class (assuming label 1 is positive)\n",
        "if '1' in report_dict:\n",
        "    print(f\"Precision (Class 1): {report_dict['1']['precision']:.4f}\")\n",
        "    print(f\"Recall (Class 1): {report_dict['1']['recall']:.4f}\")\n",
        "    print(f\"F1-Score (Class 1): {report_dict['1']['f1-score']:.4f}\")\n",
        "# For the negative class (assuming label 0 is negative)\n",
        "if '0' in report_dict:\n",
        "    print(f\"Precision (Class 0): {report_dict['0']['precision']:.4f}\")\n",
        "    print(f\"Recall (Class 0): {report_dict['0']['recall']:.4f}\")\n",
        "    print(f\"F1-Score (Class 0): {report_dict['0']['f1-score']:.4f}\")\n",
        "\n",
        "print(f\"Macro Avg Precision: {report_dict['macro avg']['precision']:.4f}\")\n",
        "print(f\"Macro Avg Recall: {report_dict['macro avg']['recall']:.4f}\")\n",
        "print(f\"Macro Avg F1-Score: {report_dict['macro avg']['f1-score']:.4f}\")\n",
        "\n",
        "print(f\"Weighted Avg Precision: {report_dict['weighted avg']['precision']:.4f}\")\n",
        "print(f\"Weighted Avg Recall: {report_dict['weighted avg']['recall']:.4f}\")\n",
        "print(f\"Weighted Avg F1-Score: {report_dict['weighted avg']['f1-score']:.4f}\")"
      ],
      "metadata": {
        "colab": {
          "base_uri": "https://localhost:8080/"
        },
        "id": "qkvq3d8HPk7C",
        "outputId": "13368e51-dc39-4b9a-841f-878341e61b81"
      },
      "execution_count": null,
      "outputs": [
        {
          "output_type": "stream",
          "name": "stdout",
          "text": [
            "\n",
            "Additional Metrics:\n",
            "Accuracy: 0.5773\n",
            "Precision (Class 1): 1.0000\n",
            "Recall (Class 1): 0.0000\n",
            "F1-Score (Class 1): 0.0000\n",
            "Precision (Class 0): 0.5773\n",
            "Recall (Class 0): 1.0000\n",
            "F1-Score (Class 0): 0.7320\n",
            "Macro Avg Precision: 0.7886\n",
            "Macro Avg Recall: 0.5000\n",
            "Macro Avg F1-Score: 0.3660\n",
            "Weighted Avg Precision: 0.7560\n",
            "Weighted Avg Recall: 0.5773\n",
            "Weighted Avg F1-Score: 0.4226\n"
          ]
        }
      ]
    },
    {
      "cell_type": "markdown",
      "source": [
        "# SelectKBest Feature Selection Algorithm"
      ],
      "metadata": {
        "id": "TCrU9jAyvfOY"
      }
    },
    {
      "source": [
        "from sklearn.feature_selection import SelectKBest, mutual_info_classif\n",
        "import numpy as np\n",
        "import matplotlib.pyplot as plt\n",
        "from sklearn.metrics import classification_report, roc_curve, auc, precision_recall_curve, average_precision_score, f1_score\n",
        "from tensorflow.keras.models import Sequential\n",
        "from tensorflow.keras.layers import Input, LSTM, Dense\n",
        "from tensorflow.keras.callbacks import EarlyStopping\n",
        "\n",
        "# Assuming you have your X_train, X_val, X_test, y_train, y_val, y_test\n",
        "# and seq_len defined from your previous code.\n",
        "\n",
        "print(\"\\n--- Implementing Feature Selection using SelectKBest on Original Features ---\")"
      ],
      "cell_type": "code",
      "metadata": {
        "colab": {
          "base_uri": "https://localhost:8080/"
        },
        "id": "FTD5ZbPDOKuY",
        "outputId": "4ea6716b-c70b-479c-d6af-9df5be2bbf66"
      },
      "execution_count": null,
      "outputs": [
        {
          "output_type": "stream",
          "name": "stdout",
          "text": [
            "\n",
            "--- Implementing Feature Selection using SelectKBest on Original Features ---\n"
          ]
        }
      ]
    },
    {
      "source": [
        "# Step 1: Prepare data for SelectKBest by averaging ORIGINAL features over time steps\n",
        "# X_train is shape (num_sequences, seq_len, n_features)\n",
        "X_train_original_avg_for_selection = np.mean(X_train, axis=1) # Shape (num_sequences, n_features)\n",
        "y_selection_original = y_train # Use the original sequence labels (num_sequences,)\n",
        "\n",
        "# Number of features to select from the original feature space\n",
        "k_features_original_selection = 50 # You can adjust this number\n",
        "\n",
        "print(f\"Applying SelectKBest to select {k_features_original_selection} features from {X_train_original_avg_for_selection.shape[1]} original features (averaged over sequence)...\")"
      ],
      "cell_type": "code",
      "metadata": {
        "colab": {
          "base_uri": "https://localhost:8080/"
        },
        "id": "yiMlAfduOMO_",
        "outputId": "2368329a-1f62-44e9-e85b-4cc216f549a9"
      },
      "execution_count": null,
      "outputs": [
        {
          "output_type": "stream",
          "name": "stdout",
          "text": [
            "Applying SelectKBest to select 50 features from 412 original features (averaged over sequence)...\n"
          ]
        }
      ]
    },
    {
      "source": [
        "# Step 2: Apply SelectKBest\n",
        "# Use mutual_info_classif as the scoring function\n",
        "selector_original = SelectKBest(score_func=mutual_info_classif, k=k_features_original_selection)\n",
        "\n",
        "# Fit on the training data (averaged original features and sequence labels)\n",
        "# Handle the case where y_train might be constant\n",
        "if len(np.unique(y_selection_original)) < 2:\n",
        "    print(\"Warning: Target variable is constant in the training set. Skipping SelectKBest selection.\")\n",
        "    # Select all features as a fallback if the target is constant\n",
        "    selected_feature_indices_original_selection = list(range(X_train_original_avg_for_selection.shape[1]))\n",
        "    print(\"Selecting all original features as a fallback.\")\n",
        "else:\n",
        "    selector_original.fit(X_train_original_avg_for_selection, y_selection_original)\n",
        "\n",
        "    # Get the indices of the selected features\n",
        "    selected_feature_indices_original_selection = selector_original.get_support(indices=True)\n",
        "\n",
        "\n",
        "print(f\"Selected feature indices from original feature space by SelectKBest: {selected_feature_indices_original_selection}\")\n",
        "print(f\"Number of selected features: {len(selected_feature_indices_original_selection)}\")"
      ],
      "cell_type": "code",
      "metadata": {
        "colab": {
          "base_uri": "https://localhost:8080/"
        },
        "id": "_1oxIXizOOvF",
        "outputId": "2375bf8c-f943-492a-f31e-29f465ebdc2a"
      },
      "execution_count": null,
      "outputs": [
        {
          "output_type": "stream",
          "name": "stdout",
          "text": [
            "Selected feature indices from original feature space by SelectKBest: [  1  12  19  21  23  37  45  47  50  54  91 109 131 137 140 145 150 153\n",
            " 161 167 168 175 194 202 221 222 229 238 250 276 283 284 289 322 325 340\n",
            " 345 351 361 365 366 372 378 382 386 389 394 396 407 408]\n",
            "Number of selected features: 50\n"
          ]
        }
      ]
    },
    {
      "source": [
        "# Step 3: Use these selected ORIGINAL features to subset the time series data (apply to train, val, test)\n",
        "# Select the features from the original 3D time series data using the indices\n",
        "# X_data is shape (num_sequences, seq_len, n_features)\n",
        "X_train_original_selected = X_train[:, :, selected_feature_indices_original_selection]\n",
        "X_val_original_selected = X_val[:, :, selected_feature_indices_original_selection]\n",
        "X_test_original_selected = X_test[:, :, selected_feature_indices_original_selection]\n",
        "\n",
        "print(f\"\\nOriginal and SelectKBest-selected X_train shape: {X_train_original_selected.shape}\")\n",
        "print(f\"Original and SelectKBest-selected X_val shape: {X_val_original_selected.shape}\")\n",
        "print(f\"Original and SelectKBest-selected X_test shape: {X_test_original_selected.shape}\")"
      ],
      "cell_type": "code",
      "metadata": {
        "colab": {
          "base_uri": "https://localhost:8080/"
        },
        "id": "-zVE0XwFOPtS",
        "outputId": "40181290-2597-4c4c-c9a9-702e610e1f1e"
      },
      "execution_count": null,
      "outputs": [
        {
          "output_type": "stream",
          "name": "stdout",
          "text": [
            "\n",
            "Original and SelectKBest-selected X_train shape: (49781, 14, 50)\n",
            "Original and SelectKBest-selected X_val shape: (10667, 14, 50)\n",
            "Original and SelectKBest-selected X_test shape: (10669, 14, 50)\n"
          ]
        }
      ]
    },
    {
      "source": [
        "# Assuming 'feature_cols' contains the names of the original features used to create X_train, X_val, X_test\n",
        "# This variable should have been defined earlier in the notebook during data preprocessing.\n",
        "# If not, you'll need to ensure 'feature_cols' is available and correctly lists the column names\n",
        "# that correspond to the feature dimension of X_train (the last dimension).\n",
        "\n",
        "# Retrieve the names of the selected features\n",
        "original_feature_names = feature_cols # Use the list of original feature names\n",
        "selected_feature_names = [original_feature_names[i] for i in selected_feature_indices_original_selection]\n",
        "\n",
        "print(\"\\nSelected Feature Names (from original features):\")\n",
        "print(selected_feature_names)\n",
        "print(f\"\\nNumber of selected features: {len(selected_feature_names)}\")"
      ],
      "cell_type": "code",
      "metadata": {
        "colab": {
          "base_uri": "https://localhost:8080/"
        },
        "id": "AZENkIictXGw",
        "outputId": "4fc20624-71da-4f93-a859-e2d15fd2777f"
      },
      "execution_count": null,
      "outputs": [
        {
          "output_type": "stream",
          "name": "stdout",
          "text": [
            "\n",
            "Selected Feature Names (from original features):\n",
            "['<not present>', 'Actinomyces', 'Agathobacter', 'Akkermansia', 'Alistipes', 'Anaerostipes', 'Atopobium', 'Bacteroides', 'Bifidobacterium', 'Blautia', 'Clostridium sensu stricto 1', 'Corynebacterium 1', 'Eggerthella', 'Enterococcus', 'Erysipelatoclostridium', 'Escherichia-Shigella', 'Faecalibacterium', 'Faecalitalea', 'Flavonifractor', 'Fusicatenibacter', 'Fusobacterium', 'Gemella', 'Intestinibacter', 'Lachnoclostridium', 'Lactobacillus', 'Lactococcus', 'Leuconostoc', 'Megasphaera', 'Mogibacterium', 'Parabacteroides', 'Parvimonas', 'Pediococcus', 'Phascolarctobacterium', 'Rothia', 'Ruminiclostridium 5', 'Ruminococcus 2', 'Scardovia', 'Sellimonas', 'Staphylococcus', 'Streptococcus', 'Subdoligranulum', 'Terrisporobacter', 'Turicibacter', 'UBA1819', 'Veillonella', 'Weissella', '[Clostridium] innocuum group', '[Eubacterium] coprostanoligenes group', '[Ruminococcus] gnavus group', '[Ruminococcus] torques group']\n",
            "\n",
            "Number of selected features: 50\n"
          ]
        }
      ]
    },
    {
      "source": [
        "# Step 4: Build and Train a new LSTM Model with SelectKBest-selected ORIGINAL features\n",
        "n_features_original_selected = X_train_original_selected.shape[-1] # This will be k_features_original_selection\n",
        "# seq_len is already defined\n",
        "\n",
        "# Define LSTM model architecture for selected ORIGINAL features\n",
        "lstm_model_original_selected = Sequential([\n",
        "    Input(shape=(seq_len, n_features_original_selected)), # Input shape adjusted\n",
        "    LSTM(64, return_sequences=False),\n",
        "    Dense(32, activation='relu'),\n",
        "    Dense(1, activation='sigmoid') # Output layer for binary classification\n",
        "])\n",
        "\n",
        "# Compile the LSTM model\n",
        "lstm_model_original_selected.compile(optimizer='adam', loss='binary_crossentropy', metrics=['accuracy'])\n",
        "\n",
        "# Print LSTM model summary\n",
        "print(\"\\nLSTM Model Summary (with SelectKBest Original features):\")\n",
        "lstm_model_original_selected.summary()\n",
        "\n",
        "# Define early stopping callback\n",
        "lstm_early_stopping_original_selected = EarlyStopping(monitor='val_loss', patience=15, restore_best_weights=True)\n",
        "\n",
        "# Train the LSTM model\n",
        "print(\"\\nTraining LSTM Model (with SelectKBest Original features):\")\n",
        "lstm_model_original_selected.fit(\n",
        "    X_train_original_selected, y_train,\n",
        "    epochs=50, # Or use EarlyStopping\n",
        "    batch_size=64,\n",
        "    validation_data=(X_val_original_selected, y_val),\n",
        "    callbacks=[lstm_early_stopping_original_selected],\n",
        "    verbose=1\n",
        ")"
      ],
      "cell_type": "code",
      "metadata": {
        "colab": {
          "base_uri": "https://localhost:8080/",
          "height": 1000
        },
        "id": "duXd_TpzOQ8L",
        "outputId": "468dd3b3-a157-443d-bf49-f859c388f1af"
      },
      "execution_count": null,
      "outputs": [
        {
          "output_type": "stream",
          "name": "stdout",
          "text": [
            "\n",
            "LSTM Model Summary (with SelectKBest Original features):\n"
          ]
        },
        {
          "output_type": "display_data",
          "data": {
            "text/plain": [
              "\u001b[1mModel: \"sequential_2\"\u001b[0m\n"
            ],
            "text/html": [
              "<pre style=\"white-space:pre;overflow-x:auto;line-height:normal;font-family:Menlo,'DejaVu Sans Mono',consolas,'Courier New',monospace\"><span style=\"font-weight: bold\">Model: \"sequential_2\"</span>\n",
              "</pre>\n"
            ]
          },
          "metadata": {}
        },
        {
          "output_type": "display_data",
          "data": {
            "text/plain": [
              "┏━━━━━━━━━━━━━━━━━━━━━━━━━━━━━━━━━┳━━━━━━━━━━━━━━━━━━━━━━━━┳━━━━━━━━━━━━━━━┓\n",
              "┃\u001b[1m \u001b[0m\u001b[1mLayer (type)                   \u001b[0m\u001b[1m \u001b[0m┃\u001b[1m \u001b[0m\u001b[1mOutput Shape          \u001b[0m\u001b[1m \u001b[0m┃\u001b[1m \u001b[0m\u001b[1m      Param #\u001b[0m\u001b[1m \u001b[0m┃\n",
              "┡━━━━━━━━━━━━━━━━━━━━━━━━━━━━━━━━━╇━━━━━━━━━━━━━━━━━━━━━━━━╇━━━━━━━━━━━━━━━┩\n",
              "│ lstm_2 (\u001b[38;5;33mLSTM\u001b[0m)                   │ (\u001b[38;5;45mNone\u001b[0m, \u001b[38;5;34m64\u001b[0m)             │        \u001b[38;5;34m29,440\u001b[0m │\n",
              "├─────────────────────────────────┼────────────────────────┼───────────────┤\n",
              "│ dense_7 (\u001b[38;5;33mDense\u001b[0m)                 │ (\u001b[38;5;45mNone\u001b[0m, \u001b[38;5;34m32\u001b[0m)             │         \u001b[38;5;34m2,080\u001b[0m │\n",
              "├─────────────────────────────────┼────────────────────────┼───────────────┤\n",
              "│ dense_8 (\u001b[38;5;33mDense\u001b[0m)                 │ (\u001b[38;5;45mNone\u001b[0m, \u001b[38;5;34m1\u001b[0m)              │            \u001b[38;5;34m33\u001b[0m │\n",
              "└─────────────────────────────────┴────────────────────────┴───────────────┘\n"
            ],
            "text/html": [
              "<pre style=\"white-space:pre;overflow-x:auto;line-height:normal;font-family:Menlo,'DejaVu Sans Mono',consolas,'Courier New',monospace\">┏━━━━━━━━━━━━━━━━━━━━━━━━━━━━━━━━━┳━━━━━━━━━━━━━━━━━━━━━━━━┳━━━━━━━━━━━━━━━┓\n",
              "┃<span style=\"font-weight: bold\"> Layer (type)                    </span>┃<span style=\"font-weight: bold\"> Output Shape           </span>┃<span style=\"font-weight: bold\">       Param # </span>┃\n",
              "┡━━━━━━━━━━━━━━━━━━━━━━━━━━━━━━━━━╇━━━━━━━━━━━━━━━━━━━━━━━━╇━━━━━━━━━━━━━━━┩\n",
              "│ lstm_2 (<span style=\"color: #0087ff; text-decoration-color: #0087ff\">LSTM</span>)                   │ (<span style=\"color: #00d7ff; text-decoration-color: #00d7ff\">None</span>, <span style=\"color: #00af00; text-decoration-color: #00af00\">64</span>)             │        <span style=\"color: #00af00; text-decoration-color: #00af00\">29,440</span> │\n",
              "├─────────────────────────────────┼────────────────────────┼───────────────┤\n",
              "│ dense_7 (<span style=\"color: #0087ff; text-decoration-color: #0087ff\">Dense</span>)                 │ (<span style=\"color: #00d7ff; text-decoration-color: #00d7ff\">None</span>, <span style=\"color: #00af00; text-decoration-color: #00af00\">32</span>)             │         <span style=\"color: #00af00; text-decoration-color: #00af00\">2,080</span> │\n",
              "├─────────────────────────────────┼────────────────────────┼───────────────┤\n",
              "│ dense_8 (<span style=\"color: #0087ff; text-decoration-color: #0087ff\">Dense</span>)                 │ (<span style=\"color: #00d7ff; text-decoration-color: #00d7ff\">None</span>, <span style=\"color: #00af00; text-decoration-color: #00af00\">1</span>)              │            <span style=\"color: #00af00; text-decoration-color: #00af00\">33</span> │\n",
              "└─────────────────────────────────┴────────────────────────┴───────────────┘\n",
              "</pre>\n"
            ]
          },
          "metadata": {}
        },
        {
          "output_type": "display_data",
          "data": {
            "text/plain": [
              "\u001b[1m Total params: \u001b[0m\u001b[38;5;34m31,553\u001b[0m (123.25 KB)\n"
            ],
            "text/html": [
              "<pre style=\"white-space:pre;overflow-x:auto;line-height:normal;font-family:Menlo,'DejaVu Sans Mono',consolas,'Courier New',monospace\"><span style=\"font-weight: bold\"> Total params: </span><span style=\"color: #00af00; text-decoration-color: #00af00\">31,553</span> (123.25 KB)\n",
              "</pre>\n"
            ]
          },
          "metadata": {}
        },
        {
          "output_type": "display_data",
          "data": {
            "text/plain": [
              "\u001b[1m Trainable params: \u001b[0m\u001b[38;5;34m31,553\u001b[0m (123.25 KB)\n"
            ],
            "text/html": [
              "<pre style=\"white-space:pre;overflow-x:auto;line-height:normal;font-family:Menlo,'DejaVu Sans Mono',consolas,'Courier New',monospace\"><span style=\"font-weight: bold\"> Trainable params: </span><span style=\"color: #00af00; text-decoration-color: #00af00\">31,553</span> (123.25 KB)\n",
              "</pre>\n"
            ]
          },
          "metadata": {}
        },
        {
          "output_type": "display_data",
          "data": {
            "text/plain": [
              "\u001b[1m Non-trainable params: \u001b[0m\u001b[38;5;34m0\u001b[0m (0.00 B)\n"
            ],
            "text/html": [
              "<pre style=\"white-space:pre;overflow-x:auto;line-height:normal;font-family:Menlo,'DejaVu Sans Mono',consolas,'Courier New',monospace\"><span style=\"font-weight: bold\"> Non-trainable params: </span><span style=\"color: #00af00; text-decoration-color: #00af00\">0</span> (0.00 B)\n",
              "</pre>\n"
            ]
          },
          "metadata": {}
        },
        {
          "output_type": "stream",
          "name": "stdout",
          "text": [
            "\n",
            "Training LSTM Model (with SelectKBest Original features):\n",
            "Epoch 1/50\n",
            "\u001b[1m778/778\u001b[0m \u001b[32m━━━━━━━━━━━━━━━━━━━━\u001b[0m\u001b[37m\u001b[0m \u001b[1m9s\u001b[0m 9ms/step - accuracy: 0.8313 - loss: 0.3714 - val_accuracy: 0.8209 - val_loss: 0.3319\n",
            "Epoch 2/50\n",
            "\u001b[1m778/778\u001b[0m \u001b[32m━━━━━━━━━━━━━━━━━━━━\u001b[0m\u001b[37m\u001b[0m \u001b[1m7s\u001b[0m 8ms/step - accuracy: 0.8618 - loss: 0.2631 - val_accuracy: 0.8121 - val_loss: 0.3283\n",
            "Epoch 3/50\n",
            "\u001b[1m778/778\u001b[0m \u001b[32m━━━━━━━━━━━━━━━━━━━━\u001b[0m\u001b[37m\u001b[0m \u001b[1m6s\u001b[0m 8ms/step - accuracy: 0.8667 - loss: 0.2478 - val_accuracy: 0.8276 - val_loss: 0.3259\n",
            "Epoch 4/50\n",
            "\u001b[1m778/778\u001b[0m \u001b[32m━━━━━━━━━━━━━━━━━━━━\u001b[0m\u001b[37m\u001b[0m \u001b[1m6s\u001b[0m 8ms/step - accuracy: 0.8712 - loss: 0.2402 - val_accuracy: 0.8334 - val_loss: 0.3249\n",
            "Epoch 5/50\n",
            "\u001b[1m778/778\u001b[0m \u001b[32m━━━━━━━━━━━━━━━━━━━━\u001b[0m\u001b[37m\u001b[0m \u001b[1m6s\u001b[0m 8ms/step - accuracy: 0.8746 - loss: 0.2370 - val_accuracy: 0.8353 - val_loss: 0.3248\n",
            "Epoch 6/50\n",
            "\u001b[1m778/778\u001b[0m \u001b[32m━━━━━━━━━━━━━━━━━━━━\u001b[0m\u001b[37m\u001b[0m \u001b[1m6s\u001b[0m 8ms/step - accuracy: 0.8811 - loss: 0.2270 - val_accuracy: 0.8242 - val_loss: 0.3311\n",
            "Epoch 7/50\n",
            "\u001b[1m778/778\u001b[0m \u001b[32m━━━━━━━━━━━━━━━━━━━━\u001b[0m\u001b[37m\u001b[0m \u001b[1m7s\u001b[0m 9ms/step - accuracy: 0.8867 - loss: 0.2194 - val_accuracy: 0.8178 - val_loss: 0.3518\n",
            "Epoch 8/50\n",
            "\u001b[1m778/778\u001b[0m \u001b[32m━━━━━━━━━━━━━━━━━━━━\u001b[0m\u001b[37m\u001b[0m \u001b[1m7s\u001b[0m 9ms/step - accuracy: 0.8912 - loss: 0.2127 - val_accuracy: 0.8222 - val_loss: 0.3334\n",
            "Epoch 9/50\n",
            "\u001b[1m778/778\u001b[0m \u001b[32m━━━━━━━━━━━━━━━━━━━━\u001b[0m\u001b[37m\u001b[0m \u001b[1m7s\u001b[0m 8ms/step - accuracy: 0.8926 - loss: 0.2087 - val_accuracy: 0.8268 - val_loss: 0.3509\n",
            "Epoch 10/50\n",
            "\u001b[1m778/778\u001b[0m \u001b[32m━━━━━━━━━━━━━━━━━━━━\u001b[0m\u001b[37m\u001b[0m \u001b[1m6s\u001b[0m 8ms/step - accuracy: 0.8963 - loss: 0.2033 - val_accuracy: 0.8133 - val_loss: 0.3566\n",
            "Epoch 11/50\n",
            "\u001b[1m778/778\u001b[0m \u001b[32m━━━━━━━━━━━━━━━━━━━━\u001b[0m\u001b[37m\u001b[0m \u001b[1m6s\u001b[0m 8ms/step - accuracy: 0.8999 - loss: 0.1970 - val_accuracy: 0.8142 - val_loss: 0.3602\n",
            "Epoch 12/50\n",
            "\u001b[1m778/778\u001b[0m \u001b[32m━━━━━━━━━━━━━━━━━━━━\u001b[0m\u001b[37m\u001b[0m \u001b[1m6s\u001b[0m 8ms/step - accuracy: 0.9035 - loss: 0.1905 - val_accuracy: 0.8024 - val_loss: 0.4007\n",
            "Epoch 13/50\n",
            "\u001b[1m778/778\u001b[0m \u001b[32m━━━━━━━━━━━━━━━━━━━━\u001b[0m\u001b[37m\u001b[0m \u001b[1m6s\u001b[0m 8ms/step - accuracy: 0.9096 - loss: 0.1816 - val_accuracy: 0.8249 - val_loss: 0.3993\n",
            "Epoch 14/50\n",
            "\u001b[1m778/778\u001b[0m \u001b[32m━━━━━━━━━━━━━━━━━━━━\u001b[0m\u001b[37m\u001b[0m \u001b[1m7s\u001b[0m 8ms/step - accuracy: 0.9118 - loss: 0.1788 - val_accuracy: 0.8149 - val_loss: 0.4022\n",
            "Epoch 15/50\n",
            "\u001b[1m778/778\u001b[0m \u001b[32m━━━━━━━━━━━━━━━━━━━━\u001b[0m\u001b[37m\u001b[0m \u001b[1m7s\u001b[0m 9ms/step - accuracy: 0.9129 - loss: 0.1725 - val_accuracy: 0.8163 - val_loss: 0.3860\n",
            "Epoch 16/50\n",
            "\u001b[1m778/778\u001b[0m \u001b[32m━━━━━━━━━━━━━━━━━━━━\u001b[0m\u001b[37m\u001b[0m \u001b[1m6s\u001b[0m 8ms/step - accuracy: 0.9222 - loss: 0.1637 - val_accuracy: 0.8066 - val_loss: 0.3979\n",
            "Epoch 17/50\n",
            "\u001b[1m778/778\u001b[0m \u001b[32m━━━━━━━━━━━━━━━━━━━━\u001b[0m\u001b[37m\u001b[0m \u001b[1m7s\u001b[0m 8ms/step - accuracy: 0.9234 - loss: 0.1598 - val_accuracy: 0.8045 - val_loss: 0.4456\n",
            "Epoch 18/50\n",
            "\u001b[1m778/778\u001b[0m \u001b[32m━━━━━━━━━━━━━━━━━━━━\u001b[0m\u001b[37m\u001b[0m \u001b[1m7s\u001b[0m 9ms/step - accuracy: 0.9240 - loss: 0.1567 - val_accuracy: 0.8195 - val_loss: 0.4416\n",
            "Epoch 19/50\n",
            "\u001b[1m778/778\u001b[0m \u001b[32m━━━━━━━━━━━━━━━━━━━━\u001b[0m\u001b[37m\u001b[0m \u001b[1m7s\u001b[0m 9ms/step - accuracy: 0.9241 - loss: 0.1527 - val_accuracy: 0.8178 - val_loss: 0.4745\n",
            "Epoch 20/50\n",
            "\u001b[1m778/778\u001b[0m \u001b[32m━━━━━━━━━━━━━━━━━━━━\u001b[0m\u001b[37m\u001b[0m \u001b[1m6s\u001b[0m 8ms/step - accuracy: 0.9297 - loss: 0.1449 - val_accuracy: 0.8036 - val_loss: 0.5592\n"
          ]
        },
        {
          "output_type": "execute_result",
          "data": {
            "text/plain": [
              "<keras.src.callbacks.history.History at 0x7c07e7441110>"
            ]
          },
          "metadata": {},
          "execution_count": 39
        }
      ]
    },
    {
      "source": [
        "# Step 5: Evaluate the SelectKBest-based LSTM Model (Original Features)\n",
        "print(\"\\nEvaluating LSTM Model on Test Set...\")\n",
        "loss_original_selected, accuracy_original_selected = lstm_model_original_selected.evaluate(X_test_original_selected, y_test, verbose=0)\n",
        "print(f\"\\nLSTM (SelectKBest Original Features) Test Loss: {loss_original_selected:.4f}, LSTM Test Accuracy: {accuracy_original_selected:.4f}\")"
      ],
      "cell_type": "code",
      "metadata": {
        "colab": {
          "base_uri": "https://localhost:8080/"
        },
        "id": "rPPM_Jd1OSl_",
        "outputId": "6d04e225-760c-4df9-86b0-61fc385e5573"
      },
      "execution_count": null,
      "outputs": [
        {
          "output_type": "stream",
          "name": "stdout",
          "text": [
            "\n",
            "Evaluating LSTM Model on Test Set...\n",
            "\n",
            "LSTM (SelectKBest Original Features) Test Loss: 0.5025, LSTM Test Accuracy: 0.7468\n"
          ]
        }
      ]
    },
    {
      "source": [
        "# Step 6: Make Predictions and Report Detailed Metrics for SelectKBest original model\n",
        "print(\"\\nGenerating Classification Report and Plots...\")\n",
        "y_pred_proba_original_selected = lstm_model_original_selected.predict(X_test_original_selected).ravel() # Get probabilities\n",
        "y_pred_class_original_selected = (y_pred_proba_original_selected > 0.5).astype(int) # Convert to binary classes\n",
        "\n",
        "# Print Classification Report\n",
        "print(\"\\nClassification Report (SelectKBest Original Features):\")\n",
        "print(classification_report(y_test, y_pred_class_original_selected, zero_division=1))\n",
        "\n",
        "# Calculate and Print ROC AUC\n",
        "fpr_original_selected, tpr_original_selected, thresholds_roc_original_selected = roc_curve(y_test, y_pred_proba_original_selected)\n",
        "roc_auc_original_selected = auc(fpr_original_selected, tpr_original_selected)\n",
        "print(f\"ROC AUC (SelectKBest Original Features): {roc_auc_original_selected:.4f}\")\n",
        "\n",
        "# Plot ROC Curve\n",
        "plt.figure(figsize=(8, 6))\n",
        "plt.plot(fpr_original_selected, tpr_original_selected, color='darkorange', lw=2, label=f'ROC curve (AUC = {roc_auc_original_selected:.4f})')\n",
        "plt.plot([0, 1], [0, 1], color='navy', lw=2, linestyle='--')\n",
        "plt.xlim([0.0, 1.0])\n",
        "plt.ylim([0.0, 1.05])\n",
        "plt.xlabel('False Positive Rate')\n",
        "plt.ylabel('True Positive Rate')\n",
        "plt.title('Receiver Operating Characteristic (ROC) Curve (SelectKBest Original Features)')\n",
        "plt.legend(loc=\"lower right\")\n",
        "plt.grid(True)\n",
        "plt.show()\n",
        "\n",
        "# Calculate and Print Average Precision Score (PR AUC)\n",
        "average_precision_original_selected = average_precision_score(y_test, y_pred_proba_original_selected)\n",
        "print(f\"Average Precision (PR AUC) (SelectKBest Original Features): {average_precision_original_selected:.4f}\")\n",
        "\n",
        "# Plot Precision-Recall Curve\n",
        "precision_original_selected, recall_original_selected, thresholds_pr_original_selected = precision_recall_curve(y_test, y_pred_proba_original_selected)\n",
        "plt.figure(figsize=(8, 6))\n",
        "plt.plot(recall_original_selected, precision_original_selected, color='blue', lw=2, label=f'PR curve (AP = {average_precision_original_selected:.4f})')\n",
        "plt.xlabel('Recall')\n",
        "plt.ylabel('Precision')\n",
        "plt.title('Precision-Recall Curve (SelectKBest Original Features)')\n",
        "plt.legend(loc=\"lower left\")\n",
        "plt.grid(True)\n",
        "plt.show()\n",
        "\n",
        "# Print Additional Relevant Metrics\n",
        "print(\"\\nAdditional Metrics (SelectKBest Original Features):\")\n",
        "report_dict_original_selected = classification_report(y_test, y_pred_class_original_selected, output_dict=True, zero_division=1)\n",
        "print(f\"Accuracy: {report_dict_original_selected.get('accuracy', 'N/A'):.4f}\")\n",
        "\n",
        "if '1' in report_dict_original_selected:\n",
        "    print(f\"Precision (Class 1): {report_dict_original_selected['1'].get('precision', 'N/A'):.4f}\")\n",
        "    print(f\"Recall (Class 1): {report_dict_original_selected['1'].get('recall', 'N/A'):.4f}\")\n",
        "    print(f\"F1-Score (Class 1): {report_dict_original_selected['1'].get('f1-score', 'N/A'):.4f}\")\n",
        "\n",
        "if '0' in report_dict_original_selected:\n",
        "    print(f\"Precision (Class 0): {report_dict_original_selected['0'].get('precision', 'N/A'):.4f}\")\n",
        "    print(f\"Recall (Class 0): {report_dict_original_selected['0'].get('recall', 'N/A'):.4f}\")\n",
        "    print(f\"F1-Score (Class 0): {report_dict_original_selected['0'].get('f1-score', 'N/A'):.4f}\")\n",
        "\n",
        "if 'macro avg' in report_dict_original_selected:\n",
        "    print(f\"Macro Avg Precision: {report_dict_original_selected['macro avg'].get('precision', 'N/A'):.4f}\")\n",
        "    print(f\"Macro Avg Recall: {report_dict_original_selected['macro avg'].get('recall', 'N/A'):.4f}\")\n",
        "    print(f\"Macro Avg F1-Score: {report_dict_original_selected['macro avg'].get('f1-score', 'N/A'):.4f}\")\n",
        "\n",
        "if 'weighted avg' in report_dict_original_selected:\n",
        "    print(f\"Weighted Avg Precision: {report_dict_original_selected['weighted avg'].get('precision', 'N/A'):.4f}\")\n",
        "    print(f\"Weighted Avg Recall: {report_dict_original_selected['weighted avg'].get('recall', 'N/A'):.4f}\")\n",
        "    print(f\"Weighted Avg F1-Score: {report_dict_original_selected['weighted avg'].get('f1-score', 'N/A'):.4f}\")\n",
        "\n",
        "f1_original_selected = f1_score(y_test, y_pred_class_original_selected, average='weighted')\n",
        "print(f\"\\nWeighted F1 Score (SelectKBest Original Features): {f1_original_selected:.4f}\")"
      ],
      "cell_type": "code",
      "metadata": {
        "colab": {
          "base_uri": "https://localhost:8080/",
          "height": 1000
        },
        "id": "ViD2UHEeOTW8",
        "outputId": "3049d02d-e421-4c8f-b02c-ead794db9d65"
      },
      "execution_count": null,
      "outputs": [
        {
          "output_type": "stream",
          "name": "stdout",
          "text": [
            "\n",
            "Generating Classification Report and Plots...\n",
            "\u001b[1m334/334\u001b[0m \u001b[32m━━━━━━━━━━━━━━━━━━━━\u001b[0m\u001b[37m\u001b[0m \u001b[1m1s\u001b[0m 3ms/step\n",
            "\n",
            "Classification Report (SelectKBest Original Features):\n",
            "              precision    recall  f1-score   support\n",
            "\n",
            "           0       0.75      0.83      0.79      6159\n",
            "           1       0.73      0.63      0.68      4510\n",
            "\n",
            "    accuracy                           0.75     10669\n",
            "   macro avg       0.74      0.73      0.73     10669\n",
            "weighted avg       0.75      0.75      0.74     10669\n",
            "\n",
            "ROC AUC (SelectKBest Original Features): 0.8332\n"
          ]
        },
        {
          "output_type": "display_data",
          "data": {
            "text/plain": [
              "<Figure size 800x600 with 1 Axes>"
            ],
            "image/png": "[encoded data removed]"
          },
          "metadata": {}
        },
        {
          "output_type": "stream",
          "name": "stdout",
          "text": [
            "Average Precision (PR AUC) (SelectKBest Original Features): 0.7629\n"
          ]
        },
        {
          "output_type": "display_data",
          "data": {
            "text/plain": [
              "<Figure size 800x600 with 1 Axes>"
            ],
            "image/png": "[encoded data removed]"
          },
          "metadata": {}
        },
        {
          "output_type": "stream",
          "name": "stdout",
          "text": [
            "\n",
            "Additional Metrics (SelectKBest Original Features):\n",
            "Accuracy: 0.7468\n",
            "Precision (Class 1): 0.7328\n",
            "Recall (Class 1): 0.6313\n",
            "F1-Score (Class 1): 0.6783\n",
            "Precision (Class 0): 0.7549\n",
            "Recall (Class 0): 0.8315\n",
            "F1-Score (Class 0): 0.7913\n",
            "Macro Avg Precision: 0.7438\n",
            "Macro Avg Recall: 0.7314\n",
            "Macro Avg F1-Score: 0.7348\n",
            "Weighted Avg Precision: 0.7455\n",
            "Weighted Avg Recall: 0.7468\n",
            "Weighted Avg F1-Score: 0.7435\n",
            "\n",
            "Weighted F1 Score (SelectKBest Original Features): 0.7435\n"
          ]
        }
      ]
    },
    {
      "cell_type": "markdown",
      "source": [
        "# To Load the model later"
      ],
      "metadata": {
        "id": "EKvHnkc1lxBZ"
      }
    },
    {
      "cell_type": "code",
      "source": [
        "from tensorflow.keras.models import load_model\n",
        "from tensorflow.keras import backend as K\n",
        "import tensorflow as tf\n",
        "from tensorflow.keras import regularizers # Make sure this is imported when loading\n",
        "\n",
        "# Define the custom regularizer class again (or import it if in a separate file)\n",
        "# Keras needs the class definition to load the custom object correctly\n",
        "class KLDivergenceRegularizer(regularizers.Regularizer):\n",
        "    def __init__(self, rho, beta):\n",
        "        self.rho = rho\n",
        "        self.beta = beta\n",
        "\n",
        "    def __call__(self, x):\n",
        "        rho_hat = K.mean(x, axis=0)\n",
        "        rho_hat = K.clip(rho_hat, K.epsilon(), 1 - K.epsilon())\n",
        "        kl_div = self.rho * K.log(self.rho / rho_hat) + (1 - self.rho) * K.log((1 - rho_hat) / (1 - rho))\n",
        "        return self.beta * K.sum(kl_div)\n",
        "\n",
        "    def get_config(self):\n",
        "        return {'rho': self.rho, 'beta': self.beta}\n",
        "\n",
        "# Define the path where the model was saved\n",
        "model_path = \"saved_models/sparse_autoencoder_model\"\n",
        "\n",
        "# Load the model, providing the custom object\n",
        "loaded_autoencoder = load_model(\n",
        "    model_path,\n",
        "    custom_objects={'KLDivergenceRegularizer': KLDivergenceRegularizer}\n",
        ")\n",
        "\n",
        "print(\"Model loaded successfully.\")\n",
        "loaded_autoencoder.summary()"
      ],
      "metadata": {
        "id": "9F0P-rL6lu56"
      },
      "execution_count": null,
      "outputs": []
    }
  ]
}